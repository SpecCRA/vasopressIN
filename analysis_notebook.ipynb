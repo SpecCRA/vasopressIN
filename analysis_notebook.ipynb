{
 "cells": [
  {
   "cell_type": "markdown",
   "metadata": {},
   "source": [
    "# Import Modules"
   ]
  },
  {
   "cell_type": "code",
   "execution_count": 46,
   "metadata": {},
   "outputs": [],
   "source": [
    "import pandas as pd\n",
    "import numpy as np\n",
    "import matplotlib.pyplot as plt\n",
    "import seaborn as sns\n",
    "%matplotlib inline\n",
    "import re\n",
    "import datetime"
   ]
  },
  {
   "cell_type": "markdown",
   "metadata": {},
   "source": [
    "# Load data file"
   ]
  },
  {
   "cell_type": "code",
   "execution_count": 30,
   "metadata": {},
   "outputs": [],
   "source": [
    "file_name = \"vasopressIn_dataset.xlsx\" # within same folder as notebook file\n",
    "pre_sheet_name = 'Pre Restriction'\n",
    "post_sheet_name = 'Post Restriction'\n",
    "\n",
    "# Read file into a pandas DataFrame\n",
    "df_pre = pd.read_excel(file_name, sheet_name = pre_sheet_name) # pre restriction dataframe\n",
    "df_post = pd.read_excel(file_name, sheet_name = post_sheet_name) # post restriction dataframe"
   ]
  },
  {
   "cell_type": "markdown",
   "metadata": {},
   "source": [
    "# Cleaning Dataset"
   ]
  },
  {
   "cell_type": "markdown",
   "metadata": {},
   "source": [
    "## Cleaning goals:\n",
    "* drop all empty columns and rows\n",
    "* drop empty columns for rate pressor, vasopressIN columns\n",
    "* Change data types to correct type for analysis later\n",
    "* standardize time/date formats\n",
    "* Remember, if time difference value is negative, drop value from dataset"
   ]
  },
  {
   "cell_type": "code",
   "execution_count": 31,
   "metadata": {},
   "outputs": [],
   "source": [
    "# Drop empty columns to clean up df\n",
    "#df = df.reset_index().dropna(axis = 1, how = 'all'\n",
    "df_pre = df_pre.reset_index().dropna(axis = 1, how = 'all')\n",
    "df_post = df_post.reset_index().dropna(axis = 1, how = 'all')"
   ]
  },
  {
   "cell_type": "code",
   "execution_count": 32,
   "metadata": {},
   "outputs": [
    {
     "name": "stdout",
     "output_type": "stream",
     "text": [
      "53\n",
      "37\n"
     ]
    }
   ],
   "source": [
    "# Check number of rows\n",
    "print(len(df_pre))\n",
    "print(len(df_post))"
   ]
  },
  {
   "cell_type": "code",
   "execution_count": 33,
   "metadata": {},
   "outputs": [],
   "source": [
    "# Drop empty rows\n",
    "df_pre = df_pre.dropna(axis = 0, how = 'all')\n",
    "df_post = df_post.dropna(axis = 0, how = 'all')"
   ]
  },
  {
   "cell_type": "code",
   "execution_count": 34,
   "metadata": {},
   "outputs": [
    {
     "name": "stdout",
     "output_type": "stream",
     "text": [
      "51\n",
      "37\n"
     ]
    }
   ],
   "source": [
    "# Check if any rows were dropped\n",
    "print(len(df_pre))\n",
    "print(len(df_post))"
   ]
  },
  {
   "cell_type": "code",
   "execution_count": 35,
   "metadata": {},
   "outputs": [
    {
     "data": {
      "text/html": [
       "<div>\n",
       "<style scoped>\n",
       "    .dataframe tbody tr th:only-of-type {\n",
       "        vertical-align: middle;\n",
       "    }\n",
       "\n",
       "    .dataframe tbody tr th {\n",
       "        vertical-align: top;\n",
       "    }\n",
       "\n",
       "    .dataframe thead th {\n",
       "        text-align: right;\n",
       "    }\n",
       "</style>\n",
       "<table border=\"1\" class=\"dataframe\">\n",
       "  <thead>\n",
       "    <tr style=\"text-align: right;\">\n",
       "      <th></th>\n",
       "      <th>Age</th>\n",
       "      <th>Sex</th>\n",
       "      <th>TBW (kg)</th>\n",
       "      <th>Fluid Challenge?</th>\n",
       "      <th>Pressor</th>\n",
       "      <th>Dose Pressor</th>\n",
       "      <th>Rate Pressor</th>\n",
       "      <th>VasopressIN Dose (U/min)</th>\n",
       "      <th>VasopressIN Date</th>\n",
       "      <th>VasopressIN Admin Time</th>\n",
       "      <th>Vasopressin Stop Date</th>\n",
       "      <th>Vasopressin Stop Time</th>\n",
       "      <th>Discontinue Date</th>\n",
       "      <th>Discontinue Time</th>\n",
       "    </tr>\n",
       "  </thead>\n",
       "  <tbody>\n",
       "    <tr>\n",
       "      <th>0</th>\n",
       "      <td>65</td>\n",
       "      <td>M</td>\n",
       "      <td>109.2</td>\n",
       "      <td>1.0</td>\n",
       "      <td>NE</td>\n",
       "      <td>12</td>\n",
       "      <td>22.5</td>\n",
       "      <td>0.04</td>\n",
       "      <td>2017-02-24 00:00:00</td>\n",
       "      <td>1004</td>\n",
       "      <td>NaT</td>\n",
       "      <td>NaN</td>\n",
       "      <td>02/26/2017</td>\n",
       "      <td>2017-02-26 08:16:00.000</td>\n",
       "    </tr>\n",
       "    <tr>\n",
       "      <th>1</th>\n",
       "      <td>83</td>\n",
       "      <td>F</td>\n",
       "      <td>55.3</td>\n",
       "      <td>1.0</td>\n",
       "      <td>NE</td>\n",
       "      <td>12</td>\n",
       "      <td>NaN</td>\n",
       "      <td>0.04</td>\n",
       "      <td>2017-02-27 00:00:00</td>\n",
       "      <td>1138</td>\n",
       "      <td>2017-02-28</td>\n",
       "      <td>1349.0</td>\n",
       "      <td>02/28/2017</td>\n",
       "      <td>2017-02-28 05:45:00.000</td>\n",
       "    </tr>\n",
       "    <tr>\n",
       "      <th>2</th>\n",
       "      <td>53</td>\n",
       "      <td>F</td>\n",
       "      <td>111.7</td>\n",
       "      <td>1.0</td>\n",
       "      <td>NE</td>\n",
       "      <td>3</td>\n",
       "      <td>5.6</td>\n",
       "      <td>0.04</td>\n",
       "      <td>2017-02-28 00:00:00</td>\n",
       "      <td>545</td>\n",
       "      <td>2017-03-02</td>\n",
       "      <td>900.0</td>\n",
       "      <td>03/02/2017</td>\n",
       "      <td>2017-03-02 14:34:00.000</td>\n",
       "    </tr>\n",
       "    <tr>\n",
       "      <th>3</th>\n",
       "      <td>61</td>\n",
       "      <td>M</td>\n",
       "      <td>75.2</td>\n",
       "      <td>1.0</td>\n",
       "      <td>NE</td>\n",
       "      <td>8</td>\n",
       "      <td>15.0</td>\n",
       "      <td>0.04</td>\n",
       "      <td>2017-03-12 00:00:00</td>\n",
       "      <td>1100</td>\n",
       "      <td>2017-03-17</td>\n",
       "      <td>1500.0</td>\n",
       "      <td>03/17/2017</td>\n",
       "      <td>2017-03-17 13:42:59.999</td>\n",
       "    </tr>\n",
       "    <tr>\n",
       "      <th>4</th>\n",
       "      <td>84</td>\n",
       "      <td>F</td>\n",
       "      <td>90</td>\n",
       "      <td>1.0</td>\n",
       "      <td>PE</td>\n",
       "      <td>180</td>\n",
       "      <td>67.5</td>\n",
       "      <td>0.04</td>\n",
       "      <td>2017-03-16 00:00:00</td>\n",
       "      <td>1514</td>\n",
       "      <td>2017-03-19</td>\n",
       "      <td>700.0</td>\n",
       "      <td>03/20/2017</td>\n",
       "      <td>2017-03-20 02:29:59.999</td>\n",
       "    </tr>\n",
       "  </tbody>\n",
       "</table>\n",
       "</div>"
      ],
      "text/plain": [
       "  Age Sex TBW (kg)  Fluid Challenge? Pressor Dose Pressor  Rate Pressor  \\\n",
       "0  65   M    109.2               1.0      NE           12          22.5   \n",
       "1  83   F     55.3               1.0      NE           12           NaN   \n",
       "2  53   F    111.7               1.0      NE            3           5.6   \n",
       "3  61   M     75.2               1.0      NE            8          15.0   \n",
       "4  84   F       90               1.0      PE          180          67.5   \n",
       "\n",
       "  VasopressIN Dose (U/min)     VasopressIN Date VasopressIN Admin Time  \\\n",
       "0                     0.04  2017-02-24 00:00:00                   1004   \n",
       "1                     0.04  2017-02-27 00:00:00                   1138   \n",
       "2                     0.04  2017-02-28 00:00:00                    545   \n",
       "3                     0.04  2017-03-12 00:00:00                   1100   \n",
       "4                     0.04  2017-03-16 00:00:00                   1514   \n",
       "\n",
       "  Vasopressin Stop Date  Vasopressin Stop Time Discontinue Date  \\\n",
       "0                   NaT                    NaN       02/26/2017   \n",
       "1            2017-02-28                 1349.0       02/28/2017   \n",
       "2            2017-03-02                  900.0       03/02/2017   \n",
       "3            2017-03-17                 1500.0       03/17/2017   \n",
       "4            2017-03-19                  700.0       03/20/2017   \n",
       "\n",
       "         Discontinue Time  \n",
       "0 2017-02-26 08:16:00.000  \n",
       "1 2017-02-28 05:45:00.000  \n",
       "2 2017-03-02 14:34:00.000  \n",
       "3 2017-03-17 13:42:59.999  \n",
       "4 2017-03-20 02:29:59.999  "
      ]
     },
     "execution_count": 35,
     "metadata": {},
     "output_type": "execute_result"
    }
   ],
   "source": [
    "df_pre.head(n=5)"
   ]
  },
  {
   "cell_type": "code",
   "execution_count": 36,
   "metadata": {},
   "outputs": [
    {
     "data": {
      "text/html": [
       "<div>\n",
       "<style scoped>\n",
       "    .dataframe tbody tr th:only-of-type {\n",
       "        vertical-align: middle;\n",
       "    }\n",
       "\n",
       "    .dataframe tbody tr th {\n",
       "        vertical-align: top;\n",
       "    }\n",
       "\n",
       "    .dataframe thead th {\n",
       "        text-align: right;\n",
       "    }\n",
       "</style>\n",
       "<table border=\"1\" class=\"dataframe\">\n",
       "  <thead>\n",
       "    <tr style=\"text-align: right;\">\n",
       "      <th></th>\n",
       "      <th>Age</th>\n",
       "      <th>Sex</th>\n",
       "      <th>TBW (kg)</th>\n",
       "      <th>Fluid Challenge?</th>\n",
       "      <th>Pressor</th>\n",
       "      <th>Dose Pressor mcg/min</th>\n",
       "      <th>Rate Pressor</th>\n",
       "      <th>VasopressIN Dose (U/min)</th>\n",
       "      <th>VasopressIN Date</th>\n",
       "      <th>VasopressIN Admin Time</th>\n",
       "      <th>Vasopressin Stop Date</th>\n",
       "      <th>Vasopressin Stop Time</th>\n",
       "      <th>Discontinue Date</th>\n",
       "      <th>Discontinue Time</th>\n",
       "    </tr>\n",
       "  </thead>\n",
       "  <tbody>\n",
       "    <tr>\n",
       "      <th>0</th>\n",
       "      <td>64.0</td>\n",
       "      <td>M</td>\n",
       "      <td>82.0</td>\n",
       "      <td>1.0</td>\n",
       "      <td>NE</td>\n",
       "      <td>30.0</td>\n",
       "      <td>56.3</td>\n",
       "      <td>0.04</td>\n",
       "      <td>2018-09-03</td>\n",
       "      <td>33.0</td>\n",
       "      <td>NaT</td>\n",
       "      <td>NaN</td>\n",
       "      <td>09/04/2018</td>\n",
       "      <td>2018-09-04 09:14:00.000</td>\n",
       "    </tr>\n",
       "    <tr>\n",
       "      <th>1</th>\n",
       "      <td>NaN</td>\n",
       "      <td>NaN</td>\n",
       "      <td>NaN</td>\n",
       "      <td>1.0</td>\n",
       "      <td>NE</td>\n",
       "      <td>19.0</td>\n",
       "      <td>35.6</td>\n",
       "      <td>0.04</td>\n",
       "      <td>2018-09-04</td>\n",
       "      <td>2217.0</td>\n",
       "      <td>2018-09-04</td>\n",
       "      <td>1300.0</td>\n",
       "      <td>09/07/2018</td>\n",
       "      <td>2018-09-07 10:42:59.999</td>\n",
       "    </tr>\n",
       "    <tr>\n",
       "      <th>2</th>\n",
       "      <td>91.0</td>\n",
       "      <td>F</td>\n",
       "      <td>74.0</td>\n",
       "      <td>0.0</td>\n",
       "      <td>NE</td>\n",
       "      <td>10.0</td>\n",
       "      <td>18.8</td>\n",
       "      <td>0.04</td>\n",
       "      <td>2018-09-08</td>\n",
       "      <td>1156.0</td>\n",
       "      <td>2018-09-09</td>\n",
       "      <td>800.0</td>\n",
       "      <td>09/09/2018</td>\n",
       "      <td>2018-09-09 08:25:00.000</td>\n",
       "    </tr>\n",
       "    <tr>\n",
       "      <th>3</th>\n",
       "      <td>43.0</td>\n",
       "      <td>M</td>\n",
       "      <td>79.3</td>\n",
       "      <td>1.0</td>\n",
       "      <td>NE</td>\n",
       "      <td>30.0</td>\n",
       "      <td>56.3</td>\n",
       "      <td>0.04</td>\n",
       "      <td>2018-09-08</td>\n",
       "      <td>1049.0</td>\n",
       "      <td>2018-09-11</td>\n",
       "      <td>1600.0</td>\n",
       "      <td>09/10/2018</td>\n",
       "      <td>2018-09-10 18:59:59.999</td>\n",
       "    </tr>\n",
       "    <tr>\n",
       "      <th>4</th>\n",
       "      <td>43.0</td>\n",
       "      <td>M</td>\n",
       "      <td>79.3</td>\n",
       "      <td>1.0</td>\n",
       "      <td>NE</td>\n",
       "      <td>10.0</td>\n",
       "      <td>4.7</td>\n",
       "      <td>0.04</td>\n",
       "      <td>2018-09-11</td>\n",
       "      <td>303.0</td>\n",
       "      <td>2018-09-11</td>\n",
       "      <td>1600.0</td>\n",
       "      <td>09/13/2018</td>\n",
       "      <td>2018-09-13 09:50:59.999</td>\n",
       "    </tr>\n",
       "  </tbody>\n",
       "</table>\n",
       "</div>"
      ],
      "text/plain": [
       "    Age  Sex  TBW (kg)  Fluid Challenge? Pressor  Dose Pressor mcg/min  \\\n",
       "0  64.0    M      82.0               1.0      NE                  30.0   \n",
       "1   NaN  NaN       NaN               1.0      NE                  19.0   \n",
       "2  91.0    F      74.0               0.0      NE                  10.0   \n",
       "3  43.0    M      79.3               1.0      NE                  30.0   \n",
       "4  43.0    M      79.3               1.0      NE                  10.0   \n",
       "\n",
       "   Rate Pressor  VasopressIN Dose (U/min) VasopressIN Date  \\\n",
       "0          56.3                      0.04       2018-09-03   \n",
       "1          35.6                      0.04       2018-09-04   \n",
       "2          18.8                      0.04       2018-09-08   \n",
       "3          56.3                      0.04       2018-09-08   \n",
       "4           4.7                      0.04       2018-09-11   \n",
       "\n",
       "   VasopressIN Admin Time Vasopressin Stop Date  Vasopressin Stop Time  \\\n",
       "0                    33.0                   NaT                    NaN   \n",
       "1                  2217.0            2018-09-04                 1300.0   \n",
       "2                  1156.0            2018-09-09                  800.0   \n",
       "3                  1049.0            2018-09-11                 1600.0   \n",
       "4                   303.0            2018-09-11                 1600.0   \n",
       "\n",
       "  Discontinue Date        Discontinue Time  \n",
       "0       09/04/2018 2018-09-04 09:14:00.000  \n",
       "1       09/07/2018 2018-09-07 10:42:59.999  \n",
       "2       09/09/2018 2018-09-09 08:25:00.000  \n",
       "3       09/10/2018 2018-09-10 18:59:59.999  \n",
       "4       09/13/2018 2018-09-13 09:50:59.999  "
      ]
     },
     "execution_count": 36,
     "metadata": {},
     "output_type": "execute_result"
    }
   ],
   "source": [
    "df_post.head(n=5)"
   ]
  },
  {
   "cell_type": "code",
   "execution_count": 37,
   "metadata": {},
   "outputs": [
    {
     "data": {
      "text/plain": [
       "Age                                 object\n",
       "Sex                                 object\n",
       "TBW (kg)                            object\n",
       "Fluid Challenge?                   float64\n",
       "Pressor                             object\n",
       "Dose Pressor                        object\n",
       "Rate Pressor                       float64\n",
       "VasopressIN Dose (U/min)            object\n",
       "VasopressIN Date                    object\n",
       "VasopressIN Admin Time              object\n",
       "Vasopressin Stop Date       datetime64[ns]\n",
       "Vasopressin Stop Time              float64\n",
       "Discontinue Date                    object\n",
       "Discontinue Time            datetime64[ns]\n",
       "dtype: object"
      ]
     },
     "execution_count": 37,
     "metadata": {},
     "output_type": "execute_result"
    }
   ],
   "source": [
    "df_pre.dtypes # check datatypes of both dataframes"
   ]
  },
  {
   "cell_type": "code",
   "execution_count": 38,
   "metadata": {},
   "outputs": [
    {
     "data": {
      "text/plain": [
       "Age                                float64\n",
       "Sex                                 object\n",
       "TBW (kg)                           float64\n",
       "Fluid Challenge?                   float64\n",
       "Pressor                             object\n",
       "Dose Pressor mcg/min               float64\n",
       "Rate Pressor                       float64\n",
       "VasopressIN Dose (U/min)           float64\n",
       "VasopressIN Date            datetime64[ns]\n",
       "VasopressIN Admin Time             float64\n",
       "Vasopressin Stop Date       datetime64[ns]\n",
       "Vasopressin Stop Time              float64\n",
       "Discontinue Date                    object\n",
       "Discontinue Time            datetime64[ns]\n",
       "dtype: object"
      ]
     },
     "execution_count": 38,
     "metadata": {},
     "output_type": "execute_result"
    }
   ],
   "source": [
    "df_post.dtypes"
   ]
  },
  {
   "cell_type": "code",
   "execution_count": 12,
   "metadata": {},
   "outputs": [],
   "source": [
    "df_pre['Vasopressin Stop Time'] = pd.to_datetime(df_pre['Vasopressin Stop Time'], format='%-H%M', errors='coerce')"
   ]
  },
  {
   "cell_type": "code",
   "execution_count": 14,
   "metadata": {},
   "outputs": [],
   "source": [
    "# Change column data type to float\n",
    "df_pre['Rate Pressor'] = df_pre['Rate Pressor'].astype(float, errors = 'ignore')"
   ]
  },
  {
   "cell_type": "code",
   "execution_count": 16,
   "metadata": {},
   "outputs": [],
   "source": [
    "# Change column data type to float\n",
    "df_post['Rate Pressor'] = df_post['Rate Pressor'].astype(float, errors = 'ignore')"
   ]
  },
  {
   "cell_type": "code",
   "execution_count": 24,
   "metadata": {},
   "outputs": [],
   "source": [
    "# Define function to do convert on time columns\n",
    "def parse_time(string):\n",
    "    hour = string[:2]\n",
    "    min = string[2:]\n",
    "    result = hour + ':' + min\n",
    "    return datetime.datetime.strptime(result, '%H:%M').time()"
   ]
  },
  {
   "cell_type": "code",
   "execution_count": null,
   "metadata": {},
   "outputs": [],
   "source": [
    "# Define function to subtract time and return elasped value\n",
    "def time_diff(start_time, end_time):\n",
    "    if start_time > end_time:\n",
    "        break\n",
    "    else:\n",
    "        hours = (end_time.hour - start_time.hour)*60\n",
    "        minutes = (end_time.minute)"
   ]
  },
  {
   "cell_type": "markdown",
   "metadata": {},
   "source": [
    "## Next steps for sorting:\n",
    "* New dataframes: drop empty values for start or stop times"
   ]
  },
  {
   "cell_type": "code",
   "execution_count": null,
   "metadata": {},
   "outputs": [],
   "source": []
  },
  {
   "cell_type": "markdown",
   "metadata": {},
   "source": [
    "# Plots"
   ]
  },
  {
   "cell_type": "markdown",
   "metadata": {},
   "source": [
    "* box plot for repressor rates, post and pre\n",
    "* histogram too\n",
    "* quartile and stats values for pre and post"
   ]
  },
  {
   "cell_type": "code",
   "execution_count": 41,
   "metadata": {},
   "outputs": [
    {
     "data": {
      "text/plain": [
       "count     41.000000\n",
       "mean      65.724390\n",
       "std       51.479602\n",
       "min        0.000000\n",
       "25%       37.500000\n",
       "50%       56.300000\n",
       "75%       93.300000\n",
       "max      281.000000\n",
       "Name: Rate Pressor, dtype: float64"
      ]
     },
     "execution_count": 41,
     "metadata": {},
     "output_type": "execute_result"
    }
   ],
   "source": [
    "# Print values for rate pressor pre restriction\n",
    "df_pre['Rate Pressor'].describe()"
   ]
  },
  {
   "cell_type": "code",
   "execution_count": 42,
   "metadata": {},
   "outputs": [
    {
     "data": {
      "text/plain": [
       "count     32.000000\n",
       "mean      43.838750\n",
       "std       30.542405\n",
       "min        1.900000\n",
       "25%       18.800000\n",
       "50%       39.400000\n",
       "75%       56.300000\n",
       "max      103.000000\n",
       "Name: Rate Pressor, dtype: float64"
      ]
     },
     "execution_count": 42,
     "metadata": {},
     "output_type": "execute_result"
    }
   ],
   "source": [
    "# print values for rate pressor post restriction\n",
    "df_post['Rate Pressor'].describe()"
   ]
  },
  {
   "cell_type": "code",
   "execution_count": 43,
   "metadata": {},
   "outputs": [],
   "source": [
    "# declare x variable for following plots\n",
    "x_pre = df_pre['Rate Pressor']\n",
    "x_post = df_post['Rate Pressor']"
   ]
  },
  {
   "cell_type": "code",
   "execution_count": 55,
   "metadata": {},
   "outputs": [
    {
     "data": {
      "image/png": "[encoded data removed]",
      "text/plain": [
       "<Figure size 432x288 with 1 Axes>"
      ]
     },
     "metadata": {
      "needs_background": "light"
     },
     "output_type": "display_data"
    }
   ],
   "source": [
    "# box plot for pre\n",
    "\n",
    "pre_box = sns.boxplot(x=x_pre).set_title('Pre Restriction Box Plot')\n",
    "#pre_box.savefig('pre_restriction_box.png')\n",
    "plt.savefig('pre_restriction_box.png')"
   ]
  },
  {
   "cell_type": "code",
   "execution_count": 57,
   "metadata": {},
   "outputs": [
    {
     "data": {
      "image/png": "[encoded data removed]",
      "text/plain": [
       "<Figure size 432x288 with 1 Axes>"
      ]
     },
     "metadata": {
      "needs_background": "light"
     },
     "output_type": "display_data"
    }
   ],
   "source": [
    "# box plot for post\n",
    "pos_box = sns.boxplot(x=x_post).set_title('Post Restriction Box Plot')\n",
    "plt.savefig('post_restriction_box.png')"
   ]
  },
  {
   "cell_type": "code",
   "execution_count": 85,
   "metadata": {},
   "outputs": [
    {
     "data": {
      "image/png": "[encoded data removed]",
      "text/plain": [
       "<Figure size 1080x576 with 1 Axes>"
      ]
     },
     "metadata": {
      "needs_background": "light"
     },
     "output_type": "display_data"
    },
    {
     "data": {
      "text/plain": [
       "<Figure size 1080x576 with 0 Axes>"
      ]
     },
     "metadata": {},
     "output_type": "display_data"
    }
   ],
   "source": [
    "# histogram pre\n",
    "plt.hist(x_pre, bins = 15)\n",
    "plt.title('Pre Restriction Histogram')\n",
    "plt.rcParams['figure.figsize'] = [15,8]\n",
    "plt.show()\n",
    "plt.savefig('pre_restriction_histogram.png')"
   ]
  },
  {
   "cell_type": "code",
   "execution_count": 83,
   "metadata": {},
   "outputs": [
    {
     "data": {
      "image/png": "[encoded data removed]",
      "text/plain": [
       "<Figure size 1080x576 with 1 Axes>"
      ]
     },
     "metadata": {
      "needs_background": "light"
     },
     "output_type": "display_data"
    },
    {
     "data": {
      "text/plain": [
       "<Figure size 1080x576 with 0 Axes>"
      ]
     },
     "metadata": {},
     "output_type": "display_data"
    }
   ],
   "source": [
    "# histogram post\n",
    "plt.hist(x_post, bins = 15)\n",
    "plt.title('Post Restriction Histogram')\n",
    "plt.show()\n",
    "plt.savefig('post_restriction_histogram.png')"
   ]
  }
 ],
 "metadata": {
  "kernelspec": {
   "display_name": "Python 3",
   "language": "python",
   "name": "python3"
  },
  "language_info": {
   "codemirror_mode": {
    "name": "ipython",
    "version": 3
   },
   "file_extension": ".py",
   "mimetype": "text/x-python",
   "name": "python",
   "nbconvert_exporter": "python",
   "pygments_lexer": "ipython3",
   "version": "3.6.6"
  }
 },
 "nbformat": 4,
 "nbformat_minor": 2
}

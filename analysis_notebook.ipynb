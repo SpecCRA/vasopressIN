{
 "cells": [
  {
   "cell_type": "markdown",
   "metadata": {},
   "source": [
    "# Import Modules"
   ]
  },
  {
   "cell_type": "code",
   "execution_count": 1,
   "metadata": {},
   "outputs": [],
   "source": [
    "import pandas as pd\n",
    "import numpy as np\n",
    "import matplotlib.pyplot as plt\n",
    "import seaborn as sns\n",
    "%matplotlib inline\n",
    "import re\n",
    "import datetime"
   ]
  },
  {
   "cell_type": "markdown",
   "metadata": {},
   "source": [
    "# Load data file"
   ]
  },
  {
   "cell_type": "code",
   "execution_count": 2,
   "metadata": {},
   "outputs": [],
   "source": [
    "file_name = \"vasopressIn_dataset.xlsx\" # within same folder as notebook file\n",
    "pre_sheet_name = 'Pre Restriction'\n",
    "post_sheet_name = 'Post Restriction'\n",
    "\n",
    "# Read file into a pandas DataFrame\n",
    "df_pre = pd.read_excel(file_name, sheet_name = pre_sheet_name) # pre restriction dataframe\n",
    "df_post = pd.read_excel(file_name, sheet_name = post_sheet_name) # post restriction dataframe"
   ]
  },
  {
   "cell_type": "markdown",
   "metadata": {},
   "source": [
    "# Cleaning Dataset"
   ]
  },
  {
   "cell_type": "markdown",
   "metadata": {},
   "source": [
    "## Cleaning goals:\n",
    "* drop all empty columns and rows\n",
    "* drop empty columns for rate pressor, vasopressIN columns\n",
    "* Change data types to correct type for analysis later\n",
    "* standardize time/date formats\n",
    "* Remember, if time difference value is negative, drop value from dataset\n",
    "* Clean time values: if value is less than 4 digits, add leading zeroes until it is 4 digits"
   ]
  },
  {
   "cell_type": "code",
   "execution_count": 3,
   "metadata": {},
   "outputs": [],
   "source": [
    "# Drop empty columns to clean up df\n",
    "#df = df.reset_index().dropna(axis = 1, how = 'all'\n",
    "df_pre = df_pre.reset_index().dropna(axis = 1, how = 'all')\n",
    "df_post = df_post.reset_index().dropna(axis = 1, how = 'all')"
   ]
  },
  {
   "cell_type": "code",
   "execution_count": 4,
   "metadata": {},
   "outputs": [
    {
     "name": "stdout",
     "output_type": "stream",
     "text": [
      "53\n",
      "37\n"
     ]
    }
   ],
   "source": [
    "# Check number of rows\n",
    "print(len(df_pre))\n",
    "print(len(df_post))"
   ]
  },
  {
   "cell_type": "code",
   "execution_count": 5,
   "metadata": {},
   "outputs": [],
   "source": [
    "# Drop empty rows\n",
    "df_pre = df_pre.dropna(axis = 0, how = 'all')\n",
    "df_post = df_post.dropna(axis = 0, how = 'all')"
   ]
  },
  {
   "cell_type": "code",
   "execution_count": 6,
   "metadata": {},
   "outputs": [
    {
     "name": "stdout",
     "output_type": "stream",
     "text": [
      "51\n",
      "37\n"
     ]
    }
   ],
   "source": [
    "# Check if any rows were dropped\n",
    "print(len(df_pre))\n",
    "print(len(df_post))"
   ]
  },
  {
   "cell_type": "code",
   "execution_count": 7,
   "metadata": {},
   "outputs": [
    {
     "data": {
      "text/html": [
       "<div>\n",
       "<style scoped>\n",
       "    .dataframe tbody tr th:only-of-type {\n",
       "        vertical-align: middle;\n",
       "    }\n",
       "\n",
       "    .dataframe tbody tr th {\n",
       "        vertical-align: top;\n",
       "    }\n",
       "\n",
       "    .dataframe thead th {\n",
       "        text-align: right;\n",
       "    }\n",
       "</style>\n",
       "<table border=\"1\" class=\"dataframe\">\n",
       "  <thead>\n",
       "    <tr style=\"text-align: right;\">\n",
       "      <th></th>\n",
       "      <th>Age</th>\n",
       "      <th>Sex</th>\n",
       "      <th>TBW (kg)</th>\n",
       "      <th>Fluid Challenge?</th>\n",
       "      <th>Pressor</th>\n",
       "      <th>Dose Pressor</th>\n",
       "      <th>Rate Pressor</th>\n",
       "      <th>VasopressIN Dose (U/min)</th>\n",
       "      <th>VasopressIN Date</th>\n",
       "      <th>VasopressIN Admin Time</th>\n",
       "      <th>Vasopressin Stop Date</th>\n",
       "      <th>Vasopressin Stop Time</th>\n",
       "      <th>Discontinue Date</th>\n",
       "      <th>Discontinue Time</th>\n",
       "    </tr>\n",
       "  </thead>\n",
       "  <tbody>\n",
       "    <tr>\n",
       "      <th>0</th>\n",
       "      <td>65</td>\n",
       "      <td>M</td>\n",
       "      <td>109.2</td>\n",
       "      <td>1.0</td>\n",
       "      <td>NE</td>\n",
       "      <td>12</td>\n",
       "      <td>22.5</td>\n",
       "      <td>0.04</td>\n",
       "      <td>2017-02-24 00:00:00</td>\n",
       "      <td>1004</td>\n",
       "      <td>NaT</td>\n",
       "      <td>NaN</td>\n",
       "      <td>02/26/2017</td>\n",
       "      <td>2017-02-26 08:16:00.000</td>\n",
       "    </tr>\n",
       "    <tr>\n",
       "      <th>1</th>\n",
       "      <td>83</td>\n",
       "      <td>F</td>\n",
       "      <td>55.3</td>\n",
       "      <td>1.0</td>\n",
       "      <td>NE</td>\n",
       "      <td>12</td>\n",
       "      <td>NaN</td>\n",
       "      <td>0.04</td>\n",
       "      <td>2017-02-27 00:00:00</td>\n",
       "      <td>1138</td>\n",
       "      <td>2017-02-28</td>\n",
       "      <td>1349.0</td>\n",
       "      <td>02/28/2017</td>\n",
       "      <td>2017-02-28 05:45:00.000</td>\n",
       "    </tr>\n",
       "    <tr>\n",
       "      <th>2</th>\n",
       "      <td>53</td>\n",
       "      <td>F</td>\n",
       "      <td>111.7</td>\n",
       "      <td>1.0</td>\n",
       "      <td>NE</td>\n",
       "      <td>3</td>\n",
       "      <td>5.6</td>\n",
       "      <td>0.04</td>\n",
       "      <td>2017-02-28 00:00:00</td>\n",
       "      <td>545</td>\n",
       "      <td>2017-03-02</td>\n",
       "      <td>900.0</td>\n",
       "      <td>03/02/2017</td>\n",
       "      <td>2017-03-02 14:34:00.000</td>\n",
       "    </tr>\n",
       "    <tr>\n",
       "      <th>3</th>\n",
       "      <td>61</td>\n",
       "      <td>M</td>\n",
       "      <td>75.2</td>\n",
       "      <td>1.0</td>\n",
       "      <td>NE</td>\n",
       "      <td>8</td>\n",
       "      <td>15.0</td>\n",
       "      <td>0.04</td>\n",
       "      <td>2017-03-12 00:00:00</td>\n",
       "      <td>1100</td>\n",
       "      <td>2017-03-17</td>\n",
       "      <td>1500.0</td>\n",
       "      <td>03/17/2017</td>\n",
       "      <td>2017-03-17 13:42:59.999</td>\n",
       "    </tr>\n",
       "    <tr>\n",
       "      <th>4</th>\n",
       "      <td>84</td>\n",
       "      <td>F</td>\n",
       "      <td>90</td>\n",
       "      <td>1.0</td>\n",
       "      <td>PE</td>\n",
       "      <td>180</td>\n",
       "      <td>67.5</td>\n",
       "      <td>0.04</td>\n",
       "      <td>2017-03-16 00:00:00</td>\n",
       "      <td>1514</td>\n",
       "      <td>2017-03-19</td>\n",
       "      <td>700.0</td>\n",
       "      <td>03/20/2017</td>\n",
       "      <td>2017-03-20 02:29:59.999</td>\n",
       "    </tr>\n",
       "  </tbody>\n",
       "</table>\n",
       "</div>"
      ],
      "text/plain": [
       "  Age Sex TBW (kg)  Fluid Challenge? Pressor Dose Pressor  Rate Pressor  \\\n",
       "0  65   M    109.2               1.0      NE           12          22.5   \n",
       "1  83   F     55.3               1.0      NE           12           NaN   \n",
       "2  53   F    111.7               1.0      NE            3           5.6   \n",
       "3  61   M     75.2               1.0      NE            8          15.0   \n",
       "4  84   F       90               1.0      PE          180          67.5   \n",
       "\n",
       "  VasopressIN Dose (U/min)     VasopressIN Date VasopressIN Admin Time  \\\n",
       "0                     0.04  2017-02-24 00:00:00                   1004   \n",
       "1                     0.04  2017-02-27 00:00:00                   1138   \n",
       "2                     0.04  2017-02-28 00:00:00                    545   \n",
       "3                     0.04  2017-03-12 00:00:00                   1100   \n",
       "4                     0.04  2017-03-16 00:00:00                   1514   \n",
       "\n",
       "  Vasopressin Stop Date  Vasopressin Stop Time Discontinue Date  \\\n",
       "0                   NaT                    NaN       02/26/2017   \n",
       "1            2017-02-28                 1349.0       02/28/2017   \n",
       "2            2017-03-02                  900.0       03/02/2017   \n",
       "3            2017-03-17                 1500.0       03/17/2017   \n",
       "4            2017-03-19                  700.0       03/20/2017   \n",
       "\n",
       "         Discontinue Time  \n",
       "0 2017-02-26 08:16:00.000  \n",
       "1 2017-02-28 05:45:00.000  \n",
       "2 2017-03-02 14:34:00.000  \n",
       "3 2017-03-17 13:42:59.999  \n",
       "4 2017-03-20 02:29:59.999  "
      ]
     },
     "execution_count": 7,
     "metadata": {},
     "output_type": "execute_result"
    }
   ],
   "source": [
    "df_pre.head(n=5)"
   ]
  },
  {
   "cell_type": "code",
   "execution_count": 8,
   "metadata": {},
   "outputs": [
    {
     "data": {
      "text/html": [
       "<div>\n",
       "<style scoped>\n",
       "    .dataframe tbody tr th:only-of-type {\n",
       "        vertical-align: middle;\n",
       "    }\n",
       "\n",
       "    .dataframe tbody tr th {\n",
       "        vertical-align: top;\n",
       "    }\n",
       "\n",
       "    .dataframe thead th {\n",
       "        text-align: right;\n",
       "    }\n",
       "</style>\n",
       "<table border=\"1\" class=\"dataframe\">\n",
       "  <thead>\n",
       "    <tr style=\"text-align: right;\">\n",
       "      <th></th>\n",
       "      <th>Age</th>\n",
       "      <th>Sex</th>\n",
       "      <th>TBW (kg)</th>\n",
       "      <th>Fluid Challenge?</th>\n",
       "      <th>Pressor</th>\n",
       "      <th>Dose Pressor mcg/min</th>\n",
       "      <th>Rate Pressor</th>\n",
       "      <th>VasopressIN Dose (U/min)</th>\n",
       "      <th>VasopressIN Date</th>\n",
       "      <th>VasopressIN Admin Time</th>\n",
       "      <th>Vasopressin Stop Date</th>\n",
       "      <th>Vasopressin Stop Time</th>\n",
       "      <th>Discontinue Date</th>\n",
       "      <th>Discontinue Time</th>\n",
       "    </tr>\n",
       "  </thead>\n",
       "  <tbody>\n",
       "    <tr>\n",
       "      <th>0</th>\n",
       "      <td>64.0</td>\n",
       "      <td>M</td>\n",
       "      <td>82.0</td>\n",
       "      <td>1.0</td>\n",
       "      <td>NE</td>\n",
       "      <td>30.0</td>\n",
       "      <td>56.3</td>\n",
       "      <td>0.04</td>\n",
       "      <td>2018-09-03</td>\n",
       "      <td>33.0</td>\n",
       "      <td>NaT</td>\n",
       "      <td>NaN</td>\n",
       "      <td>09/04/2018</td>\n",
       "      <td>2018-09-04 09:14:00.000</td>\n",
       "    </tr>\n",
       "    <tr>\n",
       "      <th>1</th>\n",
       "      <td>NaN</td>\n",
       "      <td>NaN</td>\n",
       "      <td>NaN</td>\n",
       "      <td>1.0</td>\n",
       "      <td>NE</td>\n",
       "      <td>19.0</td>\n",
       "      <td>35.6</td>\n",
       "      <td>0.04</td>\n",
       "      <td>2018-09-04</td>\n",
       "      <td>2217.0</td>\n",
       "      <td>2018-09-04</td>\n",
       "      <td>1300.0</td>\n",
       "      <td>09/07/2018</td>\n",
       "      <td>2018-09-07 10:42:59.999</td>\n",
       "    </tr>\n",
       "    <tr>\n",
       "      <th>2</th>\n",
       "      <td>91.0</td>\n",
       "      <td>F</td>\n",
       "      <td>74.0</td>\n",
       "      <td>0.0</td>\n",
       "      <td>NE</td>\n",
       "      <td>10.0</td>\n",
       "      <td>18.8</td>\n",
       "      <td>0.04</td>\n",
       "      <td>2018-09-08</td>\n",
       "      <td>1156.0</td>\n",
       "      <td>2018-09-09</td>\n",
       "      <td>800.0</td>\n",
       "      <td>09/09/2018</td>\n",
       "      <td>2018-09-09 08:25:00.000</td>\n",
       "    </tr>\n",
       "    <tr>\n",
       "      <th>3</th>\n",
       "      <td>43.0</td>\n",
       "      <td>M</td>\n",
       "      <td>79.3</td>\n",
       "      <td>1.0</td>\n",
       "      <td>NE</td>\n",
       "      <td>30.0</td>\n",
       "      <td>56.3</td>\n",
       "      <td>0.04</td>\n",
       "      <td>2018-09-08</td>\n",
       "      <td>1049.0</td>\n",
       "      <td>2018-09-11</td>\n",
       "      <td>1600.0</td>\n",
       "      <td>09/10/2018</td>\n",
       "      <td>2018-09-10 18:59:59.999</td>\n",
       "    </tr>\n",
       "    <tr>\n",
       "      <th>4</th>\n",
       "      <td>43.0</td>\n",
       "      <td>M</td>\n",
       "      <td>79.3</td>\n",
       "      <td>1.0</td>\n",
       "      <td>NE</td>\n",
       "      <td>10.0</td>\n",
       "      <td>4.7</td>\n",
       "      <td>0.04</td>\n",
       "      <td>2018-09-11</td>\n",
       "      <td>303.0</td>\n",
       "      <td>2018-09-11</td>\n",
       "      <td>1600.0</td>\n",
       "      <td>09/13/2018</td>\n",
       "      <td>2018-09-13 09:50:59.999</td>\n",
       "    </tr>\n",
       "  </tbody>\n",
       "</table>\n",
       "</div>"
      ],
      "text/plain": [
       "    Age  Sex  TBW (kg)  Fluid Challenge? Pressor  Dose Pressor mcg/min  \\\n",
       "0  64.0    M      82.0               1.0      NE                  30.0   \n",
       "1   NaN  NaN       NaN               1.0      NE                  19.0   \n",
       "2  91.0    F      74.0               0.0      NE                  10.0   \n",
       "3  43.0    M      79.3               1.0      NE                  30.0   \n",
       "4  43.0    M      79.3               1.0      NE                  10.0   \n",
       "\n",
       "   Rate Pressor  VasopressIN Dose (U/min) VasopressIN Date  \\\n",
       "0          56.3                      0.04       2018-09-03   \n",
       "1          35.6                      0.04       2018-09-04   \n",
       "2          18.8                      0.04       2018-09-08   \n",
       "3          56.3                      0.04       2018-09-08   \n",
       "4           4.7                      0.04       2018-09-11   \n",
       "\n",
       "   VasopressIN Admin Time Vasopressin Stop Date  Vasopressin Stop Time  \\\n",
       "0                    33.0                   NaT                    NaN   \n",
       "1                  2217.0            2018-09-04                 1300.0   \n",
       "2                  1156.0            2018-09-09                  800.0   \n",
       "3                  1049.0            2018-09-11                 1600.0   \n",
       "4                   303.0            2018-09-11                 1600.0   \n",
       "\n",
       "  Discontinue Date        Discontinue Time  \n",
       "0       09/04/2018 2018-09-04 09:14:00.000  \n",
       "1       09/07/2018 2018-09-07 10:42:59.999  \n",
       "2       09/09/2018 2018-09-09 08:25:00.000  \n",
       "3       09/10/2018 2018-09-10 18:59:59.999  \n",
       "4       09/13/2018 2018-09-13 09:50:59.999  "
      ]
     },
     "execution_count": 8,
     "metadata": {},
     "output_type": "execute_result"
    }
   ],
   "source": [
    "df_post.head(n=5)"
   ]
  },
  {
   "cell_type": "code",
   "execution_count": 9,
   "metadata": {},
   "outputs": [
    {
     "data": {
      "text/plain": [
       "Age                                 object\n",
       "Sex                                 object\n",
       "TBW (kg)                            object\n",
       "Fluid Challenge?                   float64\n",
       "Pressor                             object\n",
       "Dose Pressor                        object\n",
       "Rate Pressor                       float64\n",
       "VasopressIN Dose (U/min)            object\n",
       "VasopressIN Date                    object\n",
       "VasopressIN Admin Time              object\n",
       "Vasopressin Stop Date       datetime64[ns]\n",
       "Vasopressin Stop Time              float64\n",
       "Discontinue Date                    object\n",
       "Discontinue Time            datetime64[ns]\n",
       "dtype: object"
      ]
     },
     "execution_count": 9,
     "metadata": {},
     "output_type": "execute_result"
    }
   ],
   "source": [
    "df_pre.dtypes # check datatypes of both dataframes"
   ]
  },
  {
   "cell_type": "code",
   "execution_count": 10,
   "metadata": {},
   "outputs": [
    {
     "data": {
      "text/plain": [
       "Age                                float64\n",
       "Sex                                 object\n",
       "TBW (kg)                           float64\n",
       "Fluid Challenge?                   float64\n",
       "Pressor                             object\n",
       "Dose Pressor mcg/min               float64\n",
       "Rate Pressor                       float64\n",
       "VasopressIN Dose (U/min)           float64\n",
       "VasopressIN Date            datetime64[ns]\n",
       "VasopressIN Admin Time             float64\n",
       "Vasopressin Stop Date       datetime64[ns]\n",
       "Vasopressin Stop Time              float64\n",
       "Discontinue Date                    object\n",
       "Discontinue Time            datetime64[ns]\n",
       "dtype: object"
      ]
     },
     "execution_count": 10,
     "metadata": {},
     "output_type": "execute_result"
    }
   ],
   "source": [
    "df_post.dtypes"
   ]
  },
  {
   "cell_type": "code",
   "execution_count": 11,
   "metadata": {},
   "outputs": [],
   "source": [
    "df_pre['Vasopressin Stop Time'] = pd.to_datetime(df_pre['Vasopressin Stop Time'], format='%-H%M', errors='coerce')"
   ]
  },
  {
   "cell_type": "code",
   "execution_count": 12,
   "metadata": {},
   "outputs": [],
   "source": [
    "# Change column data type to float\n",
    "df_pre['Rate Pressor'] = df_pre['Rate Pressor'].astype(float, errors = 'ignore')"
   ]
  },
  {
   "cell_type": "code",
   "execution_count": 13,
   "metadata": {},
   "outputs": [],
   "source": [
    "# Change column data type to float\n",
    "df_post['Rate Pressor'] = df_post['Rate Pressor'].astype(float, errors = 'ignore')"
   ]
  },
  {
   "cell_type": "code",
   "execution_count": 14,
   "metadata": {},
   "outputs": [],
   "source": [
    "# Assign new dataframes for dropped rows with no time values\n",
    "prevas_df = df_pre.dropna(subset = ['Vasopressin Stop Time'], how = 'any')\n",
    "postvas_df = df_post.dropna(subset = ['Vasopressin Stop Time'], how = 'any')"
   ]
  },
  {
   "cell_type": "code",
   "execution_count": null,
   "metadata": {},
   "outputs": [],
   "source": [
    "# Change time in and out data points so they are all 4 digits each\n",
    "# Do this by adding leading zeroes until they are 4 digits"
   ]
  },
  {
   "cell_type": "code",
   "execution_count": 15,
   "metadata": {},
   "outputs": [
    {
     "name": "stdout",
     "output_type": "stream",
     "text": [
      "37\n",
      "33\n"
     ]
    }
   ],
   "source": [
    "# Check number of rows in each dataframe\n",
    "print(len(prevas_df))\n",
    "print(len(postvas_df))"
   ]
  },
  {
   "cell_type": "markdown",
   "metadata": {},
   "source": [
    "## Next steps for sorting:\n",
    "* parse 4 digit time values\n",
    "* combine the start and stop dates\n",
    "* subtract with datetime and put into a new series"
   ]
  },
  {
   "cell_type": "code",
   "execution_count": 16,
   "metadata": {},
   "outputs": [
    {
     "name": "stderr",
     "output_type": "stream",
     "text": [
      "/anaconda3/lib/python3.6/site-packages/pandas/core/frame.py:3140: SettingWithCopyWarning: \n",
      "A value is trying to be set on a copy of a slice from a DataFrame.\n",
      "Try using .loc[row_indexer,col_indexer] = value instead\n",
      "\n",
      "See the caveats in the documentation: http://pandas.pydata.org/pandas-docs/stable/indexing.html#indexing-view-versus-copy\n",
      "  self[k1] = value[k2]\n"
     ]
    }
   ],
   "source": [
    "# first convert admin and stop times to strings instead of floats\n",
    "prevas_df[['VasopressIN Admin Time', 'Vasopressin Stop Time']] = \\\n",
    "prevas_df[['VasopressIN Admin Time', 'Vasopressin Stop Time']].astype(int).astype(str)\n",
    "postvas_df[['VasopressIN Admin Time', 'Vasopressin Stop Time']] = \\\n",
    "postvas_df[['VasopressIN Admin Time', 'Vasopressin Stop Time']].astype(int).astype(str)"
   ]
  },
  {
   "cell_type": "code",
   "execution_count": 36,
   "metadata": {},
   "outputs": [],
   "source": [
    "# Define function to do convert on time columns\n",
    "def parse_time(string):\n",
    "    hour = string[:-2]\n",
    "    minute = string[-2:]\n",
    "    result = hour + ':' + minute\n",
    "    return datetime.datetime.strptime(result, '%H:%M').time()"
   ]
  },
  {
   "cell_type": "code",
   "execution_count": 41,
   "metadata": {},
   "outputs": [],
   "source": [
    "def assign_values(df):\n",
    "    for i in range(len(df)):\n",
    "        df.iloc[i] = parse_time(df.iloc[i])\n",
    "    return df"
   ]
  },
  {
   "cell_type": "code",
   "execution_count": 40,
   "metadata": {},
   "outputs": [
    {
     "data": {
      "text/plain": [
       "['Age',\n",
       " 'Sex',\n",
       " 'TBW (kg)',\n",
       " 'Fluid Challenge?',\n",
       " 'Pressor',\n",
       " 'Dose Pressor',\n",
       " 'Rate Pressor',\n",
       " 'VasopressIN Dose (U/min)',\n",
       " 'VasopressIN Date',\n",
       " 'VasopressIN Admin Time',\n",
       " 'Vasopressin Stop Date',\n",
       " 'Vasopressin Stop Time',\n",
       " 'Discontinue Date',\n",
       " 'Discontinue Time']"
      ]
     },
     "execution_count": 40,
     "metadata": {},
     "output_type": "execute_result"
    }
   ],
   "source": [
    "list(prevas_df)"
   ]
  },
  {
   "cell_type": "code",
   "execution_count": 43,
   "metadata": {},
   "outputs": [],
   "source": [
    "col_list = ['VasopressIN Admin Time', 'Vasopressin Stop Time']"
   ]
  },
  {
   "cell_type": "code",
   "execution_count": 30,
   "metadata": {},
   "outputs": [
    {
     "data": {
      "text/plain": [
       "'49'"
      ]
     },
     "execution_count": 30,
     "metadata": {},
     "output_type": "execute_result"
    }
   ],
   "source": [
    "prevas_df['Vasopressin Stop Time'].iloc[0]"
   ]
  },
  {
   "cell_type": "code",
   "execution_count": 21,
   "metadata": {},
   "outputs": [
    {
     "data": {
      "text/plain": [
       "str"
      ]
     },
     "execution_count": 21,
     "metadata": {},
     "output_type": "execute_result"
    }
   ],
   "source": [
    "type(prevas_df['Vasopressin Stop Time'].iloc[0])"
   ]
  },
  {
   "cell_type": "code",
   "execution_count": 37,
   "metadata": {},
   "outputs": [
    {
     "name": "stdout",
     "output_type": "stream",
     "text": [
      "13:49:00\n"
     ]
    }
   ],
   "source": [
    "print(parse_time(prevas_df['Vasopressin Stop Time'].iloc[0]))"
   ]
  },
  {
   "cell_type": "code",
   "execution_count": 44,
   "metadata": {},
   "outputs": [
    {
     "name": "stderr",
     "output_type": "stream",
     "text": [
      "/anaconda3/lib/python3.6/site-packages/pandas/core/indexing.py:189: SettingWithCopyWarning: \n",
      "A value is trying to be set on a copy of a slice from a DataFrame\n",
      "\n",
      "See the caveats in the documentation: http://pandas.pydata.org/pandas-docs/stable/indexing.html#indexing-view-versus-copy\n",
      "  self._setitem_with_indexer(indexer, value)\n",
      "/anaconda3/lib/python3.6/site-packages/ipykernel_launcher.py:3: SettingWithCopyWarning: \n",
      "A value is trying to be set on a copy of a slice from a DataFrame\n",
      "\n",
      "See the caveats in the documentation: http://pandas.pydata.org/pandas-docs/stable/indexing.html#indexing-view-versus-copy\n",
      "  This is separate from the ipykernel package so we can avoid doing imports until\n"
     ]
    },
    {
     "ename": "ValueError",
     "evalue": "time data ':51' does not match format '%H:%M'",
     "output_type": "error",
     "traceback": [
      "\u001b[0;31m---------------------------------------------------------------------------\u001b[0m",
      "\u001b[0;31mValueError\u001b[0m                                Traceback (most recent call last)",
      "\u001b[0;32m<ipython-input-44-352ebad8ef89>\u001b[0m in \u001b[0;36m<module>\u001b[0;34m\u001b[0m\n\u001b[1;32m      1\u001b[0m \u001b[0;31m# prevas_df and postvas_df are new dataframes for this measurement\u001b[0m\u001b[0;34m\u001b[0m\u001b[0;34m\u001b[0m\u001b[0m\n\u001b[1;32m      2\u001b[0m \u001b[0;32mfor\u001b[0m \u001b[0mcol\u001b[0m \u001b[0;32min\u001b[0m \u001b[0mcol_list\u001b[0m\u001b[0;34m:\u001b[0m\u001b[0;34m\u001b[0m\u001b[0m\n\u001b[0;32m----> 3\u001b[0;31m     \u001b[0massign_values\u001b[0m\u001b[0;34m(\u001b[0m\u001b[0mprevas_df\u001b[0m\u001b[0;34m[\u001b[0m\u001b[0mcol\u001b[0m\u001b[0;34m]\u001b[0m\u001b[0;34m)\u001b[0m\u001b[0;34m\u001b[0m\u001b[0m\n\u001b[0m\u001b[1;32m      4\u001b[0m     \u001b[0massign_values\u001b[0m\u001b[0;34m(\u001b[0m\u001b[0mpostvas_df\u001b[0m\u001b[0;34m[\u001b[0m\u001b[0mcol\u001b[0m\u001b[0;34m]\u001b[0m\u001b[0;34m)\u001b[0m\u001b[0;34m\u001b[0m\u001b[0m\n",
      "\u001b[0;32m<ipython-input-41-23bd26b0a1cf>\u001b[0m in \u001b[0;36massign_values\u001b[0;34m(df)\u001b[0m\n\u001b[1;32m      1\u001b[0m \u001b[0;32mdef\u001b[0m \u001b[0massign_values\u001b[0m\u001b[0;34m(\u001b[0m\u001b[0mdf\u001b[0m\u001b[0;34m)\u001b[0m\u001b[0;34m:\u001b[0m\u001b[0;34m\u001b[0m\u001b[0m\n\u001b[1;32m      2\u001b[0m     \u001b[0;32mfor\u001b[0m \u001b[0mi\u001b[0m \u001b[0;32min\u001b[0m \u001b[0mrange\u001b[0m\u001b[0;34m(\u001b[0m\u001b[0mlen\u001b[0m\u001b[0;34m(\u001b[0m\u001b[0mdf\u001b[0m\u001b[0;34m)\u001b[0m\u001b[0;34m)\u001b[0m\u001b[0;34m:\u001b[0m\u001b[0;34m\u001b[0m\u001b[0m\n\u001b[0;32m----> 3\u001b[0;31m         \u001b[0mdf\u001b[0m\u001b[0;34m.\u001b[0m\u001b[0miloc\u001b[0m\u001b[0;34m[\u001b[0m\u001b[0mi\u001b[0m\u001b[0;34m]\u001b[0m \u001b[0;34m=\u001b[0m \u001b[0mparse_time\u001b[0m\u001b[0;34m(\u001b[0m\u001b[0mdf\u001b[0m\u001b[0;34m.\u001b[0m\u001b[0miloc\u001b[0m\u001b[0;34m[\u001b[0m\u001b[0mi\u001b[0m\u001b[0;34m]\u001b[0m\u001b[0;34m)\u001b[0m\u001b[0;34m\u001b[0m\u001b[0m\n\u001b[0m\u001b[1;32m      4\u001b[0m     \u001b[0;32mreturn\u001b[0m \u001b[0mdf\u001b[0m\u001b[0;34m\u001b[0m\u001b[0m\n",
      "\u001b[0;32m<ipython-input-36-c9b3e7021321>\u001b[0m in \u001b[0;36mparse_time\u001b[0;34m(string)\u001b[0m\n\u001b[1;32m      4\u001b[0m     \u001b[0mminute\u001b[0m \u001b[0;34m=\u001b[0m \u001b[0mstring\u001b[0m\u001b[0;34m[\u001b[0m\u001b[0;34m-\u001b[0m\u001b[0;36m2\u001b[0m\u001b[0;34m:\u001b[0m\u001b[0;34m]\u001b[0m\u001b[0;34m\u001b[0m\u001b[0m\n\u001b[1;32m      5\u001b[0m     \u001b[0mresult\u001b[0m \u001b[0;34m=\u001b[0m \u001b[0mhour\u001b[0m \u001b[0;34m+\u001b[0m \u001b[0;34m':'\u001b[0m \u001b[0;34m+\u001b[0m \u001b[0mminute\u001b[0m\u001b[0;34m\u001b[0m\u001b[0m\n\u001b[0;32m----> 6\u001b[0;31m     \u001b[0;32mreturn\u001b[0m \u001b[0mdatetime\u001b[0m\u001b[0;34m.\u001b[0m\u001b[0mdatetime\u001b[0m\u001b[0;34m.\u001b[0m\u001b[0mstrptime\u001b[0m\u001b[0;34m(\u001b[0m\u001b[0mresult\u001b[0m\u001b[0;34m,\u001b[0m \u001b[0;34m'%H:%M'\u001b[0m\u001b[0;34m)\u001b[0m\u001b[0;34m.\u001b[0m\u001b[0mtime\u001b[0m\u001b[0;34m(\u001b[0m\u001b[0;34m)\u001b[0m\u001b[0;34m\u001b[0m\u001b[0m\n\u001b[0m",
      "\u001b[0;32m/anaconda3/lib/python3.6/_strptime.py\u001b[0m in \u001b[0;36m_strptime_datetime\u001b[0;34m(cls, data_string, format)\u001b[0m\n\u001b[1;32m    563\u001b[0m     \"\"\"Return a class cls instance based on the input string and the\n\u001b[1;32m    564\u001b[0m     format string.\"\"\"\n\u001b[0;32m--> 565\u001b[0;31m     \u001b[0mtt\u001b[0m\u001b[0;34m,\u001b[0m \u001b[0mfraction\u001b[0m \u001b[0;34m=\u001b[0m \u001b[0m_strptime\u001b[0m\u001b[0;34m(\u001b[0m\u001b[0mdata_string\u001b[0m\u001b[0;34m,\u001b[0m \u001b[0mformat\u001b[0m\u001b[0;34m)\u001b[0m\u001b[0;34m\u001b[0m\u001b[0m\n\u001b[0m\u001b[1;32m    566\u001b[0m     \u001b[0mtzname\u001b[0m\u001b[0;34m,\u001b[0m \u001b[0mgmtoff\u001b[0m \u001b[0;34m=\u001b[0m \u001b[0mtt\u001b[0m\u001b[0;34m[\u001b[0m\u001b[0;34m-\u001b[0m\u001b[0;36m2\u001b[0m\u001b[0;34m:\u001b[0m\u001b[0;34m]\u001b[0m\u001b[0;34m\u001b[0m\u001b[0m\n\u001b[1;32m    567\u001b[0m     \u001b[0margs\u001b[0m \u001b[0;34m=\u001b[0m \u001b[0mtt\u001b[0m\u001b[0;34m[\u001b[0m\u001b[0;34m:\u001b[0m\u001b[0;36m6\u001b[0m\u001b[0;34m]\u001b[0m \u001b[0;34m+\u001b[0m \u001b[0;34m(\u001b[0m\u001b[0mfraction\u001b[0m\u001b[0;34m,\u001b[0m\u001b[0;34m)\u001b[0m\u001b[0;34m\u001b[0m\u001b[0m\n",
      "\u001b[0;32m/anaconda3/lib/python3.6/_strptime.py\u001b[0m in \u001b[0;36m_strptime\u001b[0;34m(data_string, format)\u001b[0m\n\u001b[1;32m    360\u001b[0m     \u001b[0;32mif\u001b[0m \u001b[0;32mnot\u001b[0m \u001b[0mfound\u001b[0m\u001b[0;34m:\u001b[0m\u001b[0;34m\u001b[0m\u001b[0m\n\u001b[1;32m    361\u001b[0m         raise ValueError(\"time data %r does not match format %r\" %\n\u001b[0;32m--> 362\u001b[0;31m                          (data_string, format))\n\u001b[0m\u001b[1;32m    363\u001b[0m     \u001b[0;32mif\u001b[0m \u001b[0mlen\u001b[0m\u001b[0;34m(\u001b[0m\u001b[0mdata_string\u001b[0m\u001b[0;34m)\u001b[0m \u001b[0;34m!=\u001b[0m \u001b[0mfound\u001b[0m\u001b[0;34m.\u001b[0m\u001b[0mend\u001b[0m\u001b[0;34m(\u001b[0m\u001b[0;34m)\u001b[0m\u001b[0;34m:\u001b[0m\u001b[0;34m\u001b[0m\u001b[0m\n\u001b[1;32m    364\u001b[0m         raise ValueError(\"unconverted data remains: %s\" %\n",
      "\u001b[0;31mValueError\u001b[0m: time data ':51' does not match format '%H:%M'"
     ]
    }
   ],
   "source": [
    "# prevas_df and postvas_df are new dataframes for this measurement\n",
    "for col in col_list:\n",
    "    assign_values(prevas_df[col])\n",
    "    assign_values(postvas_df[col])"
   ]
  },
  {
   "cell_type": "markdown",
   "metadata": {},
   "source": [
    "# Plots"
   ]
  },
  {
   "cell_type": "markdown",
   "metadata": {},
   "source": [
    "* box plot for repressor rates, post and pre\n",
    "* histogram too\n",
    "* quartile and stats values for pre and post"
   ]
  },
  {
   "cell_type": "code",
   "execution_count": 23,
   "metadata": {},
   "outputs": [
    {
     "data": {
      "text/plain": [
       "count     41.000000\n",
       "mean      65.724390\n",
       "std       51.479602\n",
       "min        0.000000\n",
       "25%       37.500000\n",
       "50%       56.300000\n",
       "75%       93.300000\n",
       "max      281.000000\n",
       "Name: Rate Pressor, dtype: float64"
      ]
     },
     "execution_count": 23,
     "metadata": {},
     "output_type": "execute_result"
    }
   ],
   "source": [
    "# Print values for rate pressor pre restriction\n",
    "df_pre['Rate Pressor'].describe()"
   ]
  },
  {
   "cell_type": "code",
   "execution_count": 24,
   "metadata": {},
   "outputs": [
    {
     "data": {
      "text/plain": [
       "count     32.000000\n",
       "mean      43.838750\n",
       "std       30.542405\n",
       "min        1.900000\n",
       "25%       18.800000\n",
       "50%       39.400000\n",
       "75%       56.300000\n",
       "max      103.000000\n",
       "Name: Rate Pressor, dtype: float64"
      ]
     },
     "execution_count": 24,
     "metadata": {},
     "output_type": "execute_result"
    }
   ],
   "source": [
    "# print values for rate pressor post restriction\n",
    "df_post['Rate Pressor'].describe()"
   ]
  },
  {
   "cell_type": "code",
   "execution_count": 25,
   "metadata": {},
   "outputs": [],
   "source": [
    "# declare x variable for following plots\n",
    "x_pre = df_pre['Rate Pressor']\n",
    "x_post = df_post['Rate Pressor']"
   ]
  },
  {
   "cell_type": "code",
   "execution_count": 26,
   "metadata": {},
   "outputs": [
    {
     "data": {
      "image/png": "[encoded data removed]",
      "text/plain": [
       "<Figure size 432x288 with 1 Axes>"
      ]
     },
     "metadata": {
      "needs_background": "light"
     },
     "output_type": "display_data"
    }
   ],
   "source": [
    "# box plot for pre\n",
    "\n",
    "pre_box = sns.boxplot(x=x_pre).set_title('Pre Restriction Box Plot')\n",
    "#pre_box.savefig('pre_restriction_box.png')\n",
    "plt.savefig('pre_restriction_box.png')"
   ]
  },
  {
   "cell_type": "code",
   "execution_count": 27,
   "metadata": {},
   "outputs": [
    {
     "data": {
      "image/png": "[encoded data removed]",
      "text/plain": [
       "<Figure size 432x288 with 1 Axes>"
      ]
     },
     "metadata": {
      "needs_background": "light"
     },
     "output_type": "display_data"
    }
   ],
   "source": [
    "# box plot for post\n",
    "pos_box = sns.boxplot(x=x_post).set_title('Post Restriction Box Plot')\n",
    "plt.savefig('post_restriction_box.png')"
   ]
  },
  {
   "cell_type": "code",
   "execution_count": 28,
   "metadata": {},
   "outputs": [
    {
     "name": "stderr",
     "output_type": "stream",
     "text": [
      "/anaconda3/lib/python3.6/site-packages/numpy/lib/histograms.py:746: RuntimeWarning: invalid value encountered in greater_equal\n",
      "  keep = (tmp_a >= first_edge)\n",
      "/anaconda3/lib/python3.6/site-packages/numpy/lib/histograms.py:747: RuntimeWarning: invalid value encountered in less_equal\n",
      "  keep &= (tmp_a <= last_edge)\n"
     ]
    },
    {
     "data": {
      "image/png": "[encoded data removed]",
      "text/plain": [
       "<Figure size 432x288 with 1 Axes>"
      ]
     },
     "metadata": {
      "needs_background": "light"
     },
     "output_type": "display_data"
    }
   ],
   "source": [
    "# histogram pre\n",
    "plt.hist(x_pre, bins = 15)\n",
    "plt.title('Pre Restriction Histogram')\n",
    "plt.rcParams['figure.figsize'] = [15, 8]\n",
    "plt.savefig('pre_restriction_histogram.png')\n",
    "#plt.show()"
   ]
  },
  {
   "cell_type": "code",
   "execution_count": 29,
   "metadata": {},
   "outputs": [
    {
     "data": {
      "image/png": "[encoded data removed]",
      "text/plain": [
       "<Figure size 1080x576 with 1 Axes>"
      ]
     },
     "metadata": {
      "needs_background": "light"
     },
     "output_type": "display_data"
    },
    {
     "data": {
      "text/plain": [
       "<Figure size 1080x576 with 0 Axes>"
      ]
     },
     "metadata": {},
     "output_type": "display_data"
    }
   ],
   "source": [
    "# histogram post\n",
    "plt.hist(x_post, bins = 15)\n",
    "plt.title('Post Restriction Histogram')\n",
    "plt.figure(figsize=(15,8))\n",
    "plt.savefig('post_restriction_histogram.png')\n",
    "plt.show()"
   ]
  }
 ],
 "metadata": {
  "kernelspec": {
   "display_name": "Python 3",
   "language": "python",
   "name": "python3"
  },
  "language_info": {
   "codemirror_mode": {
    "name": "ipython",
    "version": 3
   },
   "file_extension": ".py",
   "mimetype": "text/x-python",
   "name": "python",
   "nbconvert_exporter": "python",
   "pygments_lexer": "ipython3",
   "version": "3.6.6"
  }
 },
 "nbformat": 4,
 "nbformat_minor": 2
}

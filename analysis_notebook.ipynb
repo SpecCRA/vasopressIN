{
 "cells": [
  {
   "cell_type": "markdown",
   "metadata": {},
   "source": [
    "# Import Modules"
   ]
  },
  {
   "cell_type": "code",
   "execution_count": 1,
   "metadata": {},
   "outputs": [],
   "source": [
    "import pandas as pd\n",
    "import numpy as np\n",
    "import matplotlib.pyplot as plt\n",
    "import seaborn as sns\n",
    "%matplotlib inline\n",
    "import re\n",
    "import datetime\n",
    "import math"
   ]
  },
  {
   "cell_type": "markdown",
   "metadata": {},
   "source": [
    "# Load data file"
   ]
  },
  {
   "cell_type": "code",
   "execution_count": 2,
   "metadata": {},
   "outputs": [],
   "source": [
    "file_name = \"vasopressIn_dataset.xlsx\" # within same folder as notebook file\n",
    "pre_sheet_name = 'Pre Restriction'\n",
    "post_sheet_name = 'Post Restriction'\n",
    "\n",
    "# Read file into a pandas DataFrame\n",
    "df_pre = pd.read_excel(file_name, sheet_name = pre_sheet_name) # pre restriction dataframe\n",
    "df_post = pd.read_excel(file_name, sheet_name = post_sheet_name) # post restriction dataframe"
   ]
  },
  {
   "cell_type": "markdown",
   "metadata": {},
   "source": [
    "# Cleaning Dataset"
   ]
  },
  {
   "cell_type": "markdown",
   "metadata": {},
   "source": [
    "## Cleaning goals:\n",
    "* drop all empty columns and rows\n",
    "* drop empty columns for rate pressor, vasopressIN columns\n",
    "* Change data types to correct type for analysis later\n",
    "* standardize time/date formats\n",
    "* Remember, if time difference value is negative, drop value from dataset\n",
    "* Clean time values: if value is less than 4 digits, add leading zeroes until it is 4 digits"
   ]
  },
  {
   "cell_type": "code",
   "execution_count": 3,
   "metadata": {},
   "outputs": [],
   "source": [
    "# Drop empty columns to clean up df\n",
    "#df = df.reset_index().dropna(axis = 1, how = 'all'\n",
    "df_pre = df_pre.reset_index().dropna(axis = 1, how = 'all')\n",
    "df_post = df_post.reset_index().dropna(axis = 1, how = 'all')"
   ]
  },
  {
   "cell_type": "code",
   "execution_count": 4,
   "metadata": {},
   "outputs": [
    {
     "name": "stdout",
     "output_type": "stream",
     "text": [
      "53\n",
      "37\n"
     ]
    }
   ],
   "source": [
    "# Check number of rows\n",
    "print(len(df_pre))\n",
    "print(len(df_post))"
   ]
  },
  {
   "cell_type": "code",
   "execution_count": 5,
   "metadata": {},
   "outputs": [],
   "source": [
    "# Drop empty rows\n",
    "df_pre = df_pre.dropna(axis = 0, how = 'all')\n",
    "df_post = df_post.dropna(axis = 0, how = 'all')"
   ]
  },
  {
   "cell_type": "code",
   "execution_count": 6,
   "metadata": {},
   "outputs": [
    {
     "name": "stdout",
     "output_type": "stream",
     "text": [
      "51\n",
      "37\n"
     ]
    }
   ],
   "source": [
    "# Check if any rows were dropped\n",
    "print(len(df_pre))\n",
    "print(len(df_post))"
   ]
  },
  {
   "cell_type": "code",
   "execution_count": 7,
   "metadata": {},
   "outputs": [
    {
     "data": {
      "text/html": [
       "<div>\n",
       "<style scoped>\n",
       "    .dataframe tbody tr th:only-of-type {\n",
       "        vertical-align: middle;\n",
       "    }\n",
       "\n",
       "    .dataframe tbody tr th {\n",
       "        vertical-align: top;\n",
       "    }\n",
       "\n",
       "    .dataframe thead th {\n",
       "        text-align: right;\n",
       "    }\n",
       "</style>\n",
       "<table border=\"1\" class=\"dataframe\">\n",
       "  <thead>\n",
       "    <tr style=\"text-align: right;\">\n",
       "      <th></th>\n",
       "      <th>Age</th>\n",
       "      <th>Sex</th>\n",
       "      <th>TBW (kg)</th>\n",
       "      <th>Fluid Challenge?</th>\n",
       "      <th>Pressor</th>\n",
       "      <th>Dose Pressor</th>\n",
       "      <th>Rate Pressor</th>\n",
       "      <th>VasopressIN Dose (U/min)</th>\n",
       "      <th>VasopressIN Date</th>\n",
       "      <th>VasopressIN Admin Time</th>\n",
       "      <th>Vasopressin Stop Date</th>\n",
       "      <th>Vasopressin Stop Time</th>\n",
       "      <th>Discontinue Date</th>\n",
       "      <th>Discontinue Time</th>\n",
       "    </tr>\n",
       "  </thead>\n",
       "  <tbody>\n",
       "    <tr>\n",
       "      <th>0</th>\n",
       "      <td>65</td>\n",
       "      <td>M</td>\n",
       "      <td>109.2</td>\n",
       "      <td>1.0</td>\n",
       "      <td>NE</td>\n",
       "      <td>12</td>\n",
       "      <td>22.5</td>\n",
       "      <td>0.04</td>\n",
       "      <td>2017-02-24 00:00:00</td>\n",
       "      <td>1004</td>\n",
       "      <td>NaT</td>\n",
       "      <td>NaN</td>\n",
       "      <td>02/26/2017</td>\n",
       "      <td>2017-02-26 08:16:00.000</td>\n",
       "    </tr>\n",
       "    <tr>\n",
       "      <th>1</th>\n",
       "      <td>83</td>\n",
       "      <td>F</td>\n",
       "      <td>55.3</td>\n",
       "      <td>1.0</td>\n",
       "      <td>NE</td>\n",
       "      <td>12</td>\n",
       "      <td>NaN</td>\n",
       "      <td>0.04</td>\n",
       "      <td>2017-02-27 00:00:00</td>\n",
       "      <td>1138</td>\n",
       "      <td>2017-02-28</td>\n",
       "      <td>1349.0</td>\n",
       "      <td>02/28/2017</td>\n",
       "      <td>2017-02-28 05:45:00.000</td>\n",
       "    </tr>\n",
       "    <tr>\n",
       "      <th>2</th>\n",
       "      <td>53</td>\n",
       "      <td>F</td>\n",
       "      <td>111.7</td>\n",
       "      <td>1.0</td>\n",
       "      <td>NE</td>\n",
       "      <td>3</td>\n",
       "      <td>5.6</td>\n",
       "      <td>0.04</td>\n",
       "      <td>2017-02-28 00:00:00</td>\n",
       "      <td>545</td>\n",
       "      <td>2017-03-02</td>\n",
       "      <td>900.0</td>\n",
       "      <td>03/02/2017</td>\n",
       "      <td>2017-03-02 14:34:00.000</td>\n",
       "    </tr>\n",
       "    <tr>\n",
       "      <th>3</th>\n",
       "      <td>61</td>\n",
       "      <td>M</td>\n",
       "      <td>75.2</td>\n",
       "      <td>1.0</td>\n",
       "      <td>NE</td>\n",
       "      <td>8</td>\n",
       "      <td>15.0</td>\n",
       "      <td>0.04</td>\n",
       "      <td>2017-03-12 00:00:00</td>\n",
       "      <td>1100</td>\n",
       "      <td>2017-03-17</td>\n",
       "      <td>1500.0</td>\n",
       "      <td>03/17/2017</td>\n",
       "      <td>2017-03-17 13:42:59.999</td>\n",
       "    </tr>\n",
       "    <tr>\n",
       "      <th>4</th>\n",
       "      <td>84</td>\n",
       "      <td>F</td>\n",
       "      <td>90</td>\n",
       "      <td>1.0</td>\n",
       "      <td>PE</td>\n",
       "      <td>180</td>\n",
       "      <td>67.5</td>\n",
       "      <td>0.04</td>\n",
       "      <td>2017-03-16 00:00:00</td>\n",
       "      <td>1514</td>\n",
       "      <td>2017-03-19</td>\n",
       "      <td>700.0</td>\n",
       "      <td>03/20/2017</td>\n",
       "      <td>2017-03-20 02:29:59.999</td>\n",
       "    </tr>\n",
       "  </tbody>\n",
       "</table>\n",
       "</div>"
      ],
      "text/plain": [
       "  Age Sex TBW (kg)  Fluid Challenge? Pressor Dose Pressor  Rate Pressor  \\\n",
       "0  65   M    109.2               1.0      NE           12          22.5   \n",
       "1  83   F     55.3               1.0      NE           12           NaN   \n",
       "2  53   F    111.7               1.0      NE            3           5.6   \n",
       "3  61   M     75.2               1.0      NE            8          15.0   \n",
       "4  84   F       90               1.0      PE          180          67.5   \n",
       "\n",
       "  VasopressIN Dose (U/min)     VasopressIN Date VasopressIN Admin Time  \\\n",
       "0                     0.04  2017-02-24 00:00:00                   1004   \n",
       "1                     0.04  2017-02-27 00:00:00                   1138   \n",
       "2                     0.04  2017-02-28 00:00:00                    545   \n",
       "3                     0.04  2017-03-12 00:00:00                   1100   \n",
       "4                     0.04  2017-03-16 00:00:00                   1514   \n",
       "\n",
       "  Vasopressin Stop Date  Vasopressin Stop Time Discontinue Date  \\\n",
       "0                   NaT                    NaN       02/26/2017   \n",
       "1            2017-02-28                 1349.0       02/28/2017   \n",
       "2            2017-03-02                  900.0       03/02/2017   \n",
       "3            2017-03-17                 1500.0       03/17/2017   \n",
       "4            2017-03-19                  700.0       03/20/2017   \n",
       "\n",
       "         Discontinue Time  \n",
       "0 2017-02-26 08:16:00.000  \n",
       "1 2017-02-28 05:45:00.000  \n",
       "2 2017-03-02 14:34:00.000  \n",
       "3 2017-03-17 13:42:59.999  \n",
       "4 2017-03-20 02:29:59.999  "
      ]
     },
     "execution_count": 7,
     "metadata": {},
     "output_type": "execute_result"
    }
   ],
   "source": [
    "df_pre.head(n=5)"
   ]
  },
  {
   "cell_type": "code",
   "execution_count": 8,
   "metadata": {},
   "outputs": [
    {
     "data": {
      "text/html": [
       "<div>\n",
       "<style scoped>\n",
       "    .dataframe tbody tr th:only-of-type {\n",
       "        vertical-align: middle;\n",
       "    }\n",
       "\n",
       "    .dataframe tbody tr th {\n",
       "        vertical-align: top;\n",
       "    }\n",
       "\n",
       "    .dataframe thead th {\n",
       "        text-align: right;\n",
       "    }\n",
       "</style>\n",
       "<table border=\"1\" class=\"dataframe\">\n",
       "  <thead>\n",
       "    <tr style=\"text-align: right;\">\n",
       "      <th></th>\n",
       "      <th>Age</th>\n",
       "      <th>Sex</th>\n",
       "      <th>TBW (kg)</th>\n",
       "      <th>Fluid Challenge?</th>\n",
       "      <th>Pressor</th>\n",
       "      <th>Dose Pressor mcg/min</th>\n",
       "      <th>Rate Pressor</th>\n",
       "      <th>VasopressIN Dose (U/min)</th>\n",
       "      <th>VasopressIN Date</th>\n",
       "      <th>VasopressIN Admin Time</th>\n",
       "      <th>Vasopressin Stop Date</th>\n",
       "      <th>Vasopressin Stop Time</th>\n",
       "      <th>Discontinue Date</th>\n",
       "      <th>Discontinue Time</th>\n",
       "    </tr>\n",
       "  </thead>\n",
       "  <tbody>\n",
       "    <tr>\n",
       "      <th>0</th>\n",
       "      <td>64.0</td>\n",
       "      <td>M</td>\n",
       "      <td>82.0</td>\n",
       "      <td>1.0</td>\n",
       "      <td>NE</td>\n",
       "      <td>30.0</td>\n",
       "      <td>56.3</td>\n",
       "      <td>0.04</td>\n",
       "      <td>2018-09-03</td>\n",
       "      <td>33.0</td>\n",
       "      <td>NaT</td>\n",
       "      <td>NaN</td>\n",
       "      <td>09/04/2018</td>\n",
       "      <td>2018-09-04 09:14:00.000</td>\n",
       "    </tr>\n",
       "    <tr>\n",
       "      <th>1</th>\n",
       "      <td>NaN</td>\n",
       "      <td>NaN</td>\n",
       "      <td>NaN</td>\n",
       "      <td>1.0</td>\n",
       "      <td>NE</td>\n",
       "      <td>19.0</td>\n",
       "      <td>35.6</td>\n",
       "      <td>0.04</td>\n",
       "      <td>2018-09-04</td>\n",
       "      <td>2217.0</td>\n",
       "      <td>2018-09-04</td>\n",
       "      <td>1300.0</td>\n",
       "      <td>09/07/2018</td>\n",
       "      <td>2018-09-07 10:42:59.999</td>\n",
       "    </tr>\n",
       "    <tr>\n",
       "      <th>2</th>\n",
       "      <td>91.0</td>\n",
       "      <td>F</td>\n",
       "      <td>74.0</td>\n",
       "      <td>0.0</td>\n",
       "      <td>NE</td>\n",
       "      <td>10.0</td>\n",
       "      <td>18.8</td>\n",
       "      <td>0.04</td>\n",
       "      <td>2018-09-08</td>\n",
       "      <td>1156.0</td>\n",
       "      <td>2018-09-09</td>\n",
       "      <td>800.0</td>\n",
       "      <td>09/09/2018</td>\n",
       "      <td>2018-09-09 08:25:00.000</td>\n",
       "    </tr>\n",
       "    <tr>\n",
       "      <th>3</th>\n",
       "      <td>43.0</td>\n",
       "      <td>M</td>\n",
       "      <td>79.3</td>\n",
       "      <td>1.0</td>\n",
       "      <td>NE</td>\n",
       "      <td>30.0</td>\n",
       "      <td>56.3</td>\n",
       "      <td>0.04</td>\n",
       "      <td>2018-09-08</td>\n",
       "      <td>1049.0</td>\n",
       "      <td>2018-09-11</td>\n",
       "      <td>1600.0</td>\n",
       "      <td>09/10/2018</td>\n",
       "      <td>2018-09-10 18:59:59.999</td>\n",
       "    </tr>\n",
       "    <tr>\n",
       "      <th>4</th>\n",
       "      <td>43.0</td>\n",
       "      <td>M</td>\n",
       "      <td>79.3</td>\n",
       "      <td>1.0</td>\n",
       "      <td>NE</td>\n",
       "      <td>10.0</td>\n",
       "      <td>4.7</td>\n",
       "      <td>0.04</td>\n",
       "      <td>2018-09-11</td>\n",
       "      <td>303.0</td>\n",
       "      <td>2018-09-11</td>\n",
       "      <td>1600.0</td>\n",
       "      <td>09/13/2018</td>\n",
       "      <td>2018-09-13 09:50:59.999</td>\n",
       "    </tr>\n",
       "  </tbody>\n",
       "</table>\n",
       "</div>"
      ],
      "text/plain": [
       "    Age  Sex  TBW (kg)  Fluid Challenge? Pressor  Dose Pressor mcg/min  \\\n",
       "0  64.0    M      82.0               1.0      NE                  30.0   \n",
       "1   NaN  NaN       NaN               1.0      NE                  19.0   \n",
       "2  91.0    F      74.0               0.0      NE                  10.0   \n",
       "3  43.0    M      79.3               1.0      NE                  30.0   \n",
       "4  43.0    M      79.3               1.0      NE                  10.0   \n",
       "\n",
       "   Rate Pressor  VasopressIN Dose (U/min) VasopressIN Date  \\\n",
       "0          56.3                      0.04       2018-09-03   \n",
       "1          35.6                      0.04       2018-09-04   \n",
       "2          18.8                      0.04       2018-09-08   \n",
       "3          56.3                      0.04       2018-09-08   \n",
       "4           4.7                      0.04       2018-09-11   \n",
       "\n",
       "   VasopressIN Admin Time Vasopressin Stop Date  Vasopressin Stop Time  \\\n",
       "0                    33.0                   NaT                    NaN   \n",
       "1                  2217.0            2018-09-04                 1300.0   \n",
       "2                  1156.0            2018-09-09                  800.0   \n",
       "3                  1049.0            2018-09-11                 1600.0   \n",
       "4                   303.0            2018-09-11                 1600.0   \n",
       "\n",
       "  Discontinue Date        Discontinue Time  \n",
       "0       09/04/2018 2018-09-04 09:14:00.000  \n",
       "1       09/07/2018 2018-09-07 10:42:59.999  \n",
       "2       09/09/2018 2018-09-09 08:25:00.000  \n",
       "3       09/10/2018 2018-09-10 18:59:59.999  \n",
       "4       09/13/2018 2018-09-13 09:50:59.999  "
      ]
     },
     "execution_count": 8,
     "metadata": {},
     "output_type": "execute_result"
    }
   ],
   "source": [
    "df_post.head(n=5)"
   ]
  },
  {
   "cell_type": "code",
   "execution_count": 9,
   "metadata": {},
   "outputs": [
    {
     "data": {
      "text/plain": [
       "Age                                 object\n",
       "Sex                                 object\n",
       "TBW (kg)                            object\n",
       "Fluid Challenge?                   float64\n",
       "Pressor                             object\n",
       "Dose Pressor                        object\n",
       "Rate Pressor                       float64\n",
       "VasopressIN Dose (U/min)            object\n",
       "VasopressIN Date                    object\n",
       "VasopressIN Admin Time              object\n",
       "Vasopressin Stop Date       datetime64[ns]\n",
       "Vasopressin Stop Time              float64\n",
       "Discontinue Date                    object\n",
       "Discontinue Time            datetime64[ns]\n",
       "dtype: object"
      ]
     },
     "execution_count": 9,
     "metadata": {},
     "output_type": "execute_result"
    }
   ],
   "source": [
    "df_pre.dtypes # check datatypes of both dataframes"
   ]
  },
  {
   "cell_type": "code",
   "execution_count": 10,
   "metadata": {},
   "outputs": [
    {
     "data": {
      "text/plain": [
       "Age                                float64\n",
       "Sex                                 object\n",
       "TBW (kg)                           float64\n",
       "Fluid Challenge?                   float64\n",
       "Pressor                             object\n",
       "Dose Pressor mcg/min               float64\n",
       "Rate Pressor                       float64\n",
       "VasopressIN Dose (U/min)           float64\n",
       "VasopressIN Date            datetime64[ns]\n",
       "VasopressIN Admin Time             float64\n",
       "Vasopressin Stop Date       datetime64[ns]\n",
       "Vasopressin Stop Time              float64\n",
       "Discontinue Date                    object\n",
       "Discontinue Time            datetime64[ns]\n",
       "dtype: object"
      ]
     },
     "execution_count": 10,
     "metadata": {},
     "output_type": "execute_result"
    }
   ],
   "source": [
    "df_post.dtypes"
   ]
  },
  {
   "cell_type": "code",
   "execution_count": 11,
   "metadata": {},
   "outputs": [],
   "source": [
    "# Change column data type to float\n",
    "df_pre['Rate Pressor'] = df_pre['Rate Pressor'].astype(float, errors = 'ignore')"
   ]
  },
  {
   "cell_type": "code",
   "execution_count": 12,
   "metadata": {},
   "outputs": [],
   "source": [
    "# Change column data type to float\n",
    "df_post['Rate Pressor'] = df_post['Rate Pressor'].astype(float, errors = 'ignore')"
   ]
  },
  {
   "cell_type": "code",
   "execution_count": 32,
   "metadata": {},
   "outputs": [],
   "source": [
    "# Assign new dataframes for dropped rows with no time values\n",
    "prevas_df = df_pre.dropna(subset = ['Vasopressin Stop Time', 'Discontinue Time'], how = 'any')\n",
    "postvas_df = df_post.dropna(subset = ['Vasopressin Stop Time', 'Discontinue Time'], how = 'any')"
   ]
  },
  {
   "cell_type": "code",
   "execution_count": 33,
   "metadata": {},
   "outputs": [
    {
     "data": {
      "text/plain": [
       "1     1349.0\n",
       "2      900.0\n",
       "3     1500.0\n",
       "4      700.0\n",
       "7     1900.0\n",
       "8      900.0\n",
       "10    1255.0\n",
       "12    1000.0\n",
       "13    1100.0\n",
       "14    2200.0\n",
       "15    1500.0\n",
       "16     900.0\n",
       "17    2000.0\n",
       "18    1800.0\n",
       "19     825.0\n",
       "20    1815.0\n",
       "21    1500.0\n",
       "22    1600.0\n",
       "23     400.0\n",
       "25    1000.0\n",
       "26    1000.0\n",
       "28    1800.0\n",
       "29    2300.0\n",
       "31    1400.0\n",
       "32     100.0\n",
       "34    1300.0\n",
       "35       0.0\n",
       "36    2100.0\n",
       "38    1215.0\n",
       "42     700.0\n",
       "Name: Vasopressin Stop Time, dtype: float64"
      ]
     },
     "execution_count": 33,
     "metadata": {},
     "output_type": "execute_result"
    }
   ],
   "source": [
    "prevas_df['Vasopressin Stop Time']"
   ]
  },
  {
   "cell_type": "code",
   "execution_count": 34,
   "metadata": {},
   "outputs": [
    {
     "name": "stdout",
     "output_type": "stream",
     "text": [
      "30\n",
      "33\n"
     ]
    }
   ],
   "source": [
    "# Check number of rows in each dataframe\n",
    "print(len(prevas_df))\n",
    "print(len(postvas_df))"
   ]
  },
  {
   "cell_type": "markdown",
   "metadata": {},
   "source": [
    "## Next steps for sorting:\n",
    "* parse 4 digit time values\n",
    "* combine the start and stop dates\n",
    "* subtract with datetime and put into a new series"
   ]
  },
  {
   "cell_type": "code",
   "execution_count": 35,
   "metadata": {},
   "outputs": [
    {
     "name": "stderr",
     "output_type": "stream",
     "text": [
      "/anaconda3/lib/python3.6/site-packages/pandas/core/frame.py:3140: SettingWithCopyWarning: \n",
      "A value is trying to be set on a copy of a slice from a DataFrame.\n",
      "Try using .loc[row_indexer,col_indexer] = value instead\n",
      "\n",
      "See the caveats in the documentation: http://pandas.pydata.org/pandas-docs/stable/indexing.html#indexing-view-versus-copy\n",
      "  self[k1] = value[k2]\n"
     ]
    }
   ],
   "source": [
    "# first convert admin and stop times to strings instead of floats\n",
    "prevas_df[['VasopressIN Admin Time', 'Vasopressin Stop Time']] = \\\n",
    "prevas_df[['VasopressIN Admin Time', 'Vasopressin Stop Time']].astype(int).astype(str)\n",
    "postvas_df[['VasopressIN Admin Time', 'Vasopressin Stop Time']] = \\\n",
    "postvas_df[['VasopressIN Admin Time', 'Vasopressin Stop Time']].astype(int).astype(str)"
   ]
  },
  {
   "cell_type": "markdown",
   "metadata": {},
   "source": [
    "### Psuedocode\n",
    "\n",
    "1. check if string is within 1 to 4 characters\n",
    "2. count how many is missing from 4\n",
    "3. reassign value to have missing zeroes + number"
   ]
  },
  {
   "cell_type": "code",
   "execution_count": 36,
   "metadata": {},
   "outputs": [],
   "source": [
    "# Change time in and out data points so they are all 4 digits each\n",
    "# Do this by adding leading zeroes until they are 4 digits\n",
    "def add_zeroes(string):\n",
    "    try:\n",
    "        string = str(string)\n",
    "    except:\n",
    "        pass\n",
    "    \n",
    "    if string == 'NaN':\n",
    "        print('No value')\n",
    "        #return None # return none for NaN value\n",
    "    elif len(string) == 4:\n",
    "        return string # return string if it's already long enough\n",
    "    elif (len(string) >= 1) and (len(string) < 4): # check if between 1 and 4 characters\n",
    "        count = len(string)\n",
    "        #print(count)\n",
    "        diff = 4 - count # find out how many zeroes to add\n",
    "        #print(diff)\n",
    "        string = str('0' * diff + string) # add the leading zeroes to have a 4 digit time\n",
    "        return string\n",
    "    else:\n",
    "        #print('Unknown value')\n",
    "        return None # return none if it's anything else"
   ]
  },
  {
   "cell_type": "code",
   "execution_count": 37,
   "metadata": {},
   "outputs": [],
   "source": [
    "# Define function to do convert on time columns\n",
    "def parse_time(string):\n",
    "    hour = string[:-2]\n",
    "    minute = string[-2:]\n",
    "    result = hour + ':' + minute\n",
    "    return datetime.datetime.strptime(result, '%H:%M').time()"
   ]
  },
  {
   "cell_type": "code",
   "execution_count": 38,
   "metadata": {},
   "outputs": [],
   "source": [
    "def assign_values(df):\n",
    "    for i in range(len(df)):\n",
    "        df.iloc[i] = parse_time(df.iloc[i])\n",
    "    return df"
   ]
  },
  {
   "cell_type": "code",
   "execution_count": 45,
   "metadata": {},
   "outputs": [
    {
     "name": "stderr",
     "output_type": "stream",
     "text": [
      "/anaconda3/lib/python3.6/site-packages/ipykernel_launcher.py:2: SettingWithCopyWarning: \n",
      "A value is trying to be set on a copy of a slice from a DataFrame.\n",
      "Try using .loc[row_indexer,col_indexer] = value instead\n",
      "\n",
      "See the caveats in the documentation: http://pandas.pydata.org/pandas-docs/stable/indexing.html#indexing-view-versus-copy\n",
      "  \n",
      "/anaconda3/lib/python3.6/site-packages/ipykernel_launcher.py:3: SettingWithCopyWarning: \n",
      "A value is trying to be set on a copy of a slice from a DataFrame.\n",
      "Try using .loc[row_indexer,col_indexer] = value instead\n",
      "\n",
      "See the caveats in the documentation: http://pandas.pydata.org/pandas-docs/stable/indexing.html#indexing-view-versus-copy\n",
      "  This is separate from the ipykernel package so we can avoid doing imports until\n"
     ]
    }
   ],
   "source": [
    "# Apply function to change time rows to 4 character strings\n",
    "prevas_df['Vasopressin Stop Time'] = prevas_df['Vasopressin Stop Time'].apply(add_zeroes)\n",
    "postvas_df['Vasopressin Stop Time'] = postvas_df['Vasopressin Stop Time'].apply(add_zeroes)"
   ]
  },
  {
   "cell_type": "code",
   "execution_count": 46,
   "metadata": {},
   "outputs": [],
   "source": [
    "col_list = ['VasopressIN Admin Time', 'Vasopressin Stop Time']"
   ]
  },
  {
   "cell_type": "code",
   "execution_count": 47,
   "metadata": {},
   "outputs": [
    {
     "name": "stderr",
     "output_type": "stream",
     "text": [
      "/anaconda3/lib/python3.6/site-packages/ipykernel_launcher.py:2: SettingWithCopyWarning: \n",
      "A value is trying to be set on a copy of a slice from a DataFrame.\n",
      "Try using .loc[row_indexer,col_indexer] = value instead\n",
      "\n",
      "See the caveats in the documentation: http://pandas.pydata.org/pandas-docs/stable/indexing.html#indexing-view-versus-copy\n",
      "  \n",
      "/anaconda3/lib/python3.6/site-packages/ipykernel_launcher.py:3: SettingWithCopyWarning: \n",
      "A value is trying to be set on a copy of a slice from a DataFrame.\n",
      "Try using .loc[row_indexer,col_indexer] = value instead\n",
      "\n",
      "See the caveats in the documentation: http://pandas.pydata.org/pandas-docs/stable/indexing.html#indexing-view-versus-copy\n",
      "  This is separate from the ipykernel package so we can avoid doing imports until\n",
      "/anaconda3/lib/python3.6/site-packages/ipykernel_launcher.py:4: SettingWithCopyWarning: \n",
      "A value is trying to be set on a copy of a slice from a DataFrame.\n",
      "Try using .loc[row_indexer,col_indexer] = value instead\n",
      "\n",
      "See the caveats in the documentation: http://pandas.pydata.org/pandas-docs/stable/indexing.html#indexing-view-versus-copy\n",
      "  after removing the cwd from sys.path.\n",
      "/anaconda3/lib/python3.6/site-packages/ipykernel_launcher.py:5: SettingWithCopyWarning: \n",
      "A value is trying to be set on a copy of a slice from a DataFrame.\n",
      "Try using .loc[row_indexer,col_indexer] = value instead\n",
      "\n",
      "See the caveats in the documentation: http://pandas.pydata.org/pandas-docs/stable/indexing.html#indexing-view-versus-copy\n",
      "  \"\"\"\n"
     ]
    }
   ],
   "source": [
    "for col in col_list:\n",
    "    prevas_df[col] = prevas_df[col].apply(add_zeroes)\n",
    "    postvas_df[col] = postvas_df[col].apply(add_zeroes)\n",
    "    prevas_df[col] = prevas_df[col].apply(parse_time)\n",
    "    postvas_df[col] = postvas_df[col].apply(parse_time)"
   ]
  },
  {
   "cell_type": "markdown",
   "metadata": {},
   "source": [
    "### Add new column with datetime for datetime operations\n",
    "* New column named Vasopressin Stop\n",
    "* Combine stop date with stop time\n",
    "* Change datatype to datetime\n",
    "* Add new column for difference between stop time and discontinue time\n",
    "* Name new column ???"
   ]
  },
  {
   "cell_type": "code",
   "execution_count": 48,
   "metadata": {},
   "outputs": [
    {
     "data": {
      "text/plain": [
       "Age                                 object\n",
       "Sex                                 object\n",
       "TBW (kg)                            object\n",
       "Fluid Challenge?                   float64\n",
       "Pressor                             object\n",
       "Dose Pressor                        object\n",
       "Rate Pressor                       float64\n",
       "VasopressIN Dose (U/min)            object\n",
       "VasopressIN Date                    object\n",
       "VasopressIN Admin Time              object\n",
       "Vasopressin Stop Date       datetime64[ns]\n",
       "Vasopressin Stop Time               object\n",
       "Discontinue Date                    object\n",
       "Discontinue Time            datetime64[ns]\n",
       "dtype: object"
      ]
     },
     "execution_count": 48,
     "metadata": {},
     "output_type": "execute_result"
    }
   ],
   "source": [
    "prevas_df.dtypes"
   ]
  },
  {
   "cell_type": "code",
   "execution_count": 49,
   "metadata": {},
   "outputs": [
    {
     "data": {
      "text/plain": [
       "Age                                float64\n",
       "Sex                                 object\n",
       "TBW (kg)                           float64\n",
       "Fluid Challenge?                   float64\n",
       "Pressor                             object\n",
       "Dose Pressor mcg/min               float64\n",
       "Rate Pressor                       float64\n",
       "VasopressIN Dose (U/min)           float64\n",
       "VasopressIN Date            datetime64[ns]\n",
       "VasopressIN Admin Time              object\n",
       "Vasopressin Stop Date       datetime64[ns]\n",
       "Vasopressin Stop Time               object\n",
       "Discontinue Date                    object\n",
       "Discontinue Time            datetime64[ns]\n",
       "dtype: object"
      ]
     },
     "execution_count": 49,
     "metadata": {},
     "output_type": "execute_result"
    }
   ],
   "source": [
    "postvas_df.dtypes"
   ]
  },
  {
   "cell_type": "code",
   "execution_count": 73,
   "metadata": {},
   "outputs": [],
   "source": [
    "# Drop columns where discontinue time is an empty valuedd"
   ]
  },
  {
   "cell_type": "code",
   "execution_count": 78,
   "metadata": {},
   "outputs": [],
   "source": [
    "def calc_diff(df):\n",
    "    df['Vasopressin Stop Date'] = df['Vasopressin Stop Date'].astype(str)\n",
    "    df['Vasopressin Stop Time'] = df['Vasopressin Stop Time'].astype(str)\n",
    "    df['Vasopressin Stop'] = df['Vasopressin Stop Date'] + ' ' + df['Vasopressin Stop Time']\n",
    "    df['Vasopressin Stop'] = pd.to_datetime(df['Vasopressin Stop'])\n",
    "    df['Difference'] = df['Discontinue Time'] - df['Vasopressin Stop']\n",
    "    df['Difference'] = df['Difference'].apply(lambda time_diff: (int(time_diff.total_seconds()/60)))\n",
    "    return df"
   ]
  },
  {
   "cell_type": "code",
   "execution_count": 79,
   "metadata": {},
   "outputs": [
    {
     "name": "stderr",
     "output_type": "stream",
     "text": [
      "/anaconda3/lib/python3.6/site-packages/ipykernel_launcher.py:1: SettingWithCopyWarning: \n",
      "A value is trying to be set on a copy of a slice from a DataFrame.\n",
      "Try using .loc[row_indexer,col_indexer] = value instead\n",
      "\n",
      "See the caveats in the documentation: http://pandas.pydata.org/pandas-docs/stable/indexing.html#indexing-view-versus-copy\n",
      "  \"\"\"Entry point for launching an IPython kernel.\n",
      "/anaconda3/lib/python3.6/site-packages/ipykernel_launcher.py:2: SettingWithCopyWarning: \n",
      "A value is trying to be set on a copy of a slice from a DataFrame.\n",
      "Try using .loc[row_indexer,col_indexer] = value instead\n",
      "\n",
      "See the caveats in the documentation: http://pandas.pydata.org/pandas-docs/stable/indexing.html#indexing-view-versus-copy\n",
      "  \n",
      "/anaconda3/lib/python3.6/site-packages/ipykernel_launcher.py:3: SettingWithCopyWarning: \n",
      "A value is trying to be set on a copy of a slice from a DataFrame.\n",
      "Try using .loc[row_indexer,col_indexer] = value instead\n",
      "\n",
      "See the caveats in the documentation: http://pandas.pydata.org/pandas-docs/stable/indexing.html#indexing-view-versus-copy\n",
      "  This is separate from the ipykernel package so we can avoid doing imports until\n"
     ]
    }
   ],
   "source": [
    "prevas_df['Vasopressin Stop Date'] = prevas_df['Vasopressin Stop Date'].astype(str)\n",
    "prevas_df['Vasopressin Stop Time'] = prevas_df['Vasopressin Stop Time'].astype(str)\n",
    "prevas_df['Vasopressin Stop'] = prevas_df['Vasopressin Stop Date'] + ' ' + prevas_df['Vasopressin Stop Time']"
   ]
  },
  {
   "cell_type": "code",
   "execution_count": 80,
   "metadata": {},
   "outputs": [
    {
     "name": "stderr",
     "output_type": "stream",
     "text": [
      "/anaconda3/lib/python3.6/site-packages/ipykernel_launcher.py:1: SettingWithCopyWarning: \n",
      "A value is trying to be set on a copy of a slice from a DataFrame.\n",
      "Try using .loc[row_indexer,col_indexer] = value instead\n",
      "\n",
      "See the caveats in the documentation: http://pandas.pydata.org/pandas-docs/stable/indexing.html#indexing-view-versus-copy\n",
      "  \"\"\"Entry point for launching an IPython kernel.\n"
     ]
    }
   ],
   "source": [
    "prevas_df['Vasopressin Stop'] = pd.to_datetime(prevas_df['Vasopressin Stop'])\n"
   ]
  },
  {
   "cell_type": "code",
   "execution_count": 81,
   "metadata": {},
   "outputs": [
    {
     "name": "stderr",
     "output_type": "stream",
     "text": [
      "/anaconda3/lib/python3.6/site-packages/ipykernel_launcher.py:1: SettingWithCopyWarning: \n",
      "A value is trying to be set on a copy of a slice from a DataFrame.\n",
      "Try using .loc[row_indexer,col_indexer] = value instead\n",
      "\n",
      "See the caveats in the documentation: http://pandas.pydata.org/pandas-docs/stable/indexing.html#indexing-view-versus-copy\n",
      "  \"\"\"Entry point for launching an IPython kernel.\n",
      "/anaconda3/lib/python3.6/site-packages/ipykernel_launcher.py:2: SettingWithCopyWarning: \n",
      "A value is trying to be set on a copy of a slice from a DataFrame.\n",
      "Try using .loc[row_indexer,col_indexer] = value instead\n",
      "\n",
      "See the caveats in the documentation: http://pandas.pydata.org/pandas-docs/stable/indexing.html#indexing-view-versus-copy\n",
      "  \n"
     ]
    }
   ],
   "source": [
    "prevas_df['Difference'] = prevas_df['Discontinue Time'] - prevas_df['Vasopressin Stop']\n",
    "prevas_df['Difference'] = prevas_df['Difference'].apply(lambda time_diff: (int(time_diff.total_seconds()/60)))"
   ]
  },
  {
   "cell_type": "code",
   "execution_count": 82,
   "metadata": {},
   "outputs": [
    {
     "data": {
      "text/plain": [
       "1     -484\n",
       "2      334\n",
       "3      -77\n",
       "4     1169\n",
       "7       58\n",
       "8      219\n",
       "10   -1217\n",
       "12    2195\n",
       "13    -155\n",
       "14    1471\n",
       "15      14\n",
       "16     -42\n",
       "17    2963\n",
       "18     -88\n",
       "19      18\n",
       "20      -4\n",
       "21       5\n",
       "22      40\n",
       "23   -1095\n",
       "25   -1042\n",
       "26     390\n",
       "28     -81\n",
       "29      20\n",
       "31       9\n",
       "32     -77\n",
       "34     -28\n",
       "35     557\n",
       "36    -920\n",
       "38      -7\n",
       "42     231\n",
       "Name: Difference, dtype: int64"
      ]
     },
     "execution_count": 82,
     "metadata": {},
     "output_type": "execute_result"
    }
   ],
   "source": [
    "prevas_df['Difference']"
   ]
  },
  {
   "cell_type": "code",
   "execution_count": 83,
   "metadata": {},
   "outputs": [
    {
     "name": "stderr",
     "output_type": "stream",
     "text": [
      "/anaconda3/lib/python3.6/site-packages/ipykernel_launcher.py:2: SettingWithCopyWarning: \n",
      "A value is trying to be set on a copy of a slice from a DataFrame.\n",
      "Try using .loc[row_indexer,col_indexer] = value instead\n",
      "\n",
      "See the caveats in the documentation: http://pandas.pydata.org/pandas-docs/stable/indexing.html#indexing-view-versus-copy\n",
      "  \n",
      "/anaconda3/lib/python3.6/site-packages/ipykernel_launcher.py:3: SettingWithCopyWarning: \n",
      "A value is trying to be set on a copy of a slice from a DataFrame.\n",
      "Try using .loc[row_indexer,col_indexer] = value instead\n",
      "\n",
      "See the caveats in the documentation: http://pandas.pydata.org/pandas-docs/stable/indexing.html#indexing-view-versus-copy\n",
      "  This is separate from the ipykernel package so we can avoid doing imports until\n",
      "/anaconda3/lib/python3.6/site-packages/ipykernel_launcher.py:4: SettingWithCopyWarning: \n",
      "A value is trying to be set on a copy of a slice from a DataFrame.\n",
      "Try using .loc[row_indexer,col_indexer] = value instead\n",
      "\n",
      "See the caveats in the documentation: http://pandas.pydata.org/pandas-docs/stable/indexing.html#indexing-view-versus-copy\n",
      "  after removing the cwd from sys.path.\n",
      "/anaconda3/lib/python3.6/site-packages/ipykernel_launcher.py:5: SettingWithCopyWarning: \n",
      "A value is trying to be set on a copy of a slice from a DataFrame.\n",
      "Try using .loc[row_indexer,col_indexer] = value instead\n",
      "\n",
      "See the caveats in the documentation: http://pandas.pydata.org/pandas-docs/stable/indexing.html#indexing-view-versus-copy\n",
      "  \"\"\"\n",
      "/anaconda3/lib/python3.6/site-packages/ipykernel_launcher.py:6: SettingWithCopyWarning: \n",
      "A value is trying to be set on a copy of a slice from a DataFrame.\n",
      "Try using .loc[row_indexer,col_indexer] = value instead\n",
      "\n",
      "See the caveats in the documentation: http://pandas.pydata.org/pandas-docs/stable/indexing.html#indexing-view-versus-copy\n",
      "  \n",
      "/anaconda3/lib/python3.6/site-packages/ipykernel_launcher.py:7: SettingWithCopyWarning: \n",
      "A value is trying to be set on a copy of a slice from a DataFrame.\n",
      "Try using .loc[row_indexer,col_indexer] = value instead\n",
      "\n",
      "See the caveats in the documentation: http://pandas.pydata.org/pandas-docs/stable/indexing.html#indexing-view-versus-copy\n",
      "  import sys\n"
     ]
    }
   ],
   "source": [
    "postvas_df = calc_diff(postvas_df)"
   ]
  },
  {
   "cell_type": "code",
   "execution_count": 84,
   "metadata": {},
   "outputs": [
    {
     "data": {
      "text/plain": [
       "1     4182\n",
       "2       25\n",
       "3    -1260\n",
       "4     2510\n",
       "5       36\n",
       "6      180\n",
       "7     1285\n",
       "8      314\n",
       "9      -35\n",
       "10     -71\n",
       "12     -55\n",
       "13    1900\n",
       "14     360\n",
       "15     190\n",
       "16       7\n",
       "17     393\n",
       "18     350\n",
       "19    1057\n",
       "20      40\n",
       "21      47\n",
       "22      45\n",
       "24    1451\n",
       "25      81\n",
       "26      44\n",
       "27    -599\n",
       "28      64\n",
       "29    1764\n",
       "30      54\n",
       "31      61\n",
       "32     214\n",
       "33   -1741\n",
       "35      34\n",
       "36       5\n",
       "Name: Difference, dtype: int64"
      ]
     },
     "execution_count": 84,
     "metadata": {},
     "output_type": "execute_result"
    }
   ],
   "source": [
    "postvas_df['Difference']"
   ]
  },
  {
   "cell_type": "code",
   "execution_count": 85,
   "metadata": {},
   "outputs": [
    {
     "data": {
      "text/plain": [
       "391.8787878787879"
      ]
     },
     "execution_count": 85,
     "metadata": {},
     "output_type": "execute_result"
    }
   ],
   "source": [
    "postvas_df['Difference'].mean()"
   ]
  },
  {
   "cell_type": "markdown",
   "metadata": {},
   "source": [
    "# Plots and Analysis"
   ]
  },
  {
   "cell_type": "markdown",
   "metadata": {},
   "source": [
    "* box plot for repressor rates, post and pre\n",
    "* histogram too\n",
    "* quartile and stats values for pre and post"
   ]
  },
  {
   "cell_type": "code",
   "execution_count": 13,
   "metadata": {},
   "outputs": [
    {
     "data": {
      "text/plain": [
       "count     41.000000\n",
       "mean      65.724390\n",
       "std       51.479602\n",
       "min        0.000000\n",
       "25%       37.500000\n",
       "50%       56.300000\n",
       "75%       93.300000\n",
       "max      281.000000\n",
       "Name: Rate Pressor, dtype: float64"
      ]
     },
     "execution_count": 13,
     "metadata": {},
     "output_type": "execute_result"
    }
   ],
   "source": [
    "# Print values for rate pressor pre intervention\n",
    "df_pre['Rate Pressor'].describe()"
   ]
  },
  {
   "cell_type": "code",
   "execution_count": 14,
   "metadata": {},
   "outputs": [
    {
     "data": {
      "text/plain": [
       "count     32.000000\n",
       "mean      43.838750\n",
       "std       30.542405\n",
       "min        1.900000\n",
       "25%       18.800000\n",
       "50%       39.400000\n",
       "75%       56.300000\n",
       "max      103.000000\n",
       "Name: Rate Pressor, dtype: float64"
      ]
     },
     "execution_count": 14,
     "metadata": {},
     "output_type": "execute_result"
    }
   ],
   "source": [
    "# print values for rate pressor post intervention\n",
    "df_post['Rate Pressor'].describe()"
   ]
  },
  {
   "cell_type": "code",
   "execution_count": 68,
   "metadata": {},
   "outputs": [
    {
     "data": {
      "text/plain": [
       "count      30.000000\n",
       "mean      145.866667\n",
       "std       872.373604\n",
       "min     -1217.000000\n",
       "25%       -80.000000\n",
       "50%         7.000000\n",
       "75%       228.000000\n",
       "max      2963.000000\n",
       "Name: Difference, dtype: float64"
      ]
     },
     "execution_count": 68,
     "metadata": {},
     "output_type": "execute_result"
    }
   ],
   "source": [
    "# Pre intervention quartile time differences\n",
    "prevas_df['Difference'].describe()"
   ]
  },
  {
   "cell_type": "code",
   "execution_count": 69,
   "metadata": {},
   "outputs": [
    {
     "data": {
      "text/plain": [
       "count      33.000000\n",
       "mean      391.878788\n",
       "std      1059.944685\n",
       "min     -1741.000000\n",
       "25%        25.000000\n",
       "50%        61.000000\n",
       "75%       360.000000\n",
       "max      4182.000000\n",
       "Name: Difference, dtype: float64"
      ]
     },
     "execution_count": 69,
     "metadata": {},
     "output_type": "execute_result"
    }
   ],
   "source": [
    "# Post intervention quartile time differences\n",
    "postvas_df['Difference'].describe()"
   ]
  },
  {
   "cell_type": "code",
   "execution_count": 15,
   "metadata": {},
   "outputs": [],
   "source": [
    "# declare x variable for following plots\n",
    "x_pre = df_pre['Rate Pressor']\n",
    "x_post = df_post['Rate Pressor']"
   ]
  },
  {
   "cell_type": "code",
   "execution_count": 20,
   "metadata": {},
   "outputs": [
    {
     "data": {
      "image/png": "[encoded data removed]",
      "text/plain": [
       "<Figure size 1080x576 with 1 Axes>"
      ]
     },
     "metadata": {
      "needs_background": "light"
     },
     "output_type": "display_data"
    }
   ],
   "source": [
    "# box plot for pre\n",
    "\n",
    "pre_box = sns.boxplot(x=x_pre).set_title('Pre Intervention Box Plot')\n",
    "#pre_box.savefig('pre_restriction_box.png')\n",
    "plt.savefig('pre_restriction_box.png')"
   ]
  },
  {
   "cell_type": "code",
   "execution_count": 91,
   "metadata": {},
   "outputs": [
    {
     "data": {
      "image/png": "[encoded data removed]",
      "text/plain": [
       "<Figure size 1080x576 with 1 Axes>"
      ]
     },
     "metadata": {
      "needs_background": "light"
     },
     "output_type": "display_data"
    }
   ],
   "source": [
    "# box plot for post\n",
    "pos_box = sns.boxplot(x=x_post, color = '#bec101').set_title('Post Intervention Box Plot')\n",
    "plt.savefig('post_restriction_box.png')"
   ]
  },
  {
   "cell_type": "code",
   "execution_count": 89,
   "metadata": {},
   "outputs": [
    {
     "data": {
      "image/png": "[encoded data removed]",
      "text/plain": [
       "<Figure size 1080x576 with 1 Axes>"
      ]
     },
     "metadata": {
      "needs_background": "light"
     },
     "output_type": "display_data"
    }
   ],
   "source": [
    "# histogram pre\n",
    "fig1 = plt.hist(x_pre, bins = 15)\n",
    "plt.title('Pre Intervention Rate Pressor Histogram')\n",
    "plt.xlabel('Rate Pressor')\n",
    "plt.ylabel('Frequency')\n",
    "plt.rcParams['figure.figsize'] = [15, 8]\n",
    "plt.savefig('pre_restriction_histogram.png')"
   ]
  },
  {
   "cell_type": "code",
   "execution_count": 98,
   "metadata": {},
   "outputs": [
    {
     "data": {
      "image/png": "[encoded data removed]",
      "text/plain": [
       "<Figure size 1080x576 with 1 Axes>"
      ]
     },
     "metadata": {
      "needs_background": "light"
     },
     "output_type": "display_data"
    }
   ],
   "source": [
    "# histogram post\n",
    "plt.hist(x_post, bins = 15, color = '#bec101')\n",
    "plt.title('Post Intervention Rate Pressor Histogram')\n",
    "plt.xlabel('Rate Pressor')\n",
    "plt.ylabel('Frequency')\n",
    "plt.savefig('post_restriction_histogram.png')"
   ]
  },
  {
   "cell_type": "code",
   "execution_count": 93,
   "metadata": {},
   "outputs": [],
   "source": [
    "# time differences variables\n",
    "x_prediff = prevas_df['Difference']\n",
    "x_postdiff = postvas_df['Difference']"
   ]
  },
  {
   "cell_type": "code",
   "execution_count": 101,
   "metadata": {},
   "outputs": [
    {
     "data": {
      "text/plain": [
       "Text(0, 0.5, 'Frequency')"
      ]
     },
     "execution_count": 101,
     "metadata": {},
     "output_type": "execute_result"
    },
    {
     "data": {
      "image/png": "[encoded data removed]",
      "text/plain": [
       "<Figure size 1080x576 with 1 Axes>"
      ]
     },
     "metadata": {
      "needs_background": "light"
     },
     "output_type": "display_data"
    }
   ],
   "source": [
    "# histogram of pre restriction time difference\n",
    "\n",
    "plt.hist(x_prediff, bins = 50)\n",
    "plt.title('Pre Intervention Time Difference Histogram')\n",
    "plt.xlabel('Minutes')\n",
    "plt.ylabel('Frequency')\n",
    "#plt.savefig('predifference_histogram.png')"
   ]
  },
  {
   "cell_type": "code",
   "execution_count": 97,
   "metadata": {},
   "outputs": [
    {
     "data": {
      "image/png": "[encoded data removed]",
      "text/plain": [
       "<Figure size 1080x576 with 1 Axes>"
      ]
     },
     "metadata": {
      "needs_background": "light"
     },
     "output_type": "display_data"
    }
   ],
   "source": [
    "# histogram of post restriction time difference\n",
    "\n",
    "plt.hist(x_postdiff, color = '#bec101')\n",
    "plt.title('Post Intervention Time Difference Histogram')\n",
    "plt.xlabel('Minutes')\n",
    "plt.ylabel('Frequency')\n",
    "#plt.savefig('postdifference_histogram.png')"
   ]
  }
 ],
 "metadata": {
  "kernelspec": {
   "display_name": "Python 3",
   "language": "python",
   "name": "python3"
  },
  "language_info": {
   "codemirror_mode": {
    "name": "ipython",
    "version": 3
   },
   "file_extension": ".py",
   "mimetype": "text/x-python",
   "name": "python",
   "nbconvert_exporter": "python",
   "pygments_lexer": "ipython3",
   "version": "3.6.6"
  }
 },
 "nbformat": 4,
 "nbformat_minor": 2
}
